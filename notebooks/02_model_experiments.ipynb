{
 "cells": [
  {
   "cell_type": "markdown",
   "metadata": {},
   "source": [
    "# Machine Learning Model Experiments"
   ]
  },
  {
   "cell_type": "markdown",
   "metadata": {},
   "source": [
    "## Experiment Setup"
   ]
  },
  {
   "cell_type": "code",
   "execution_count": 1,
   "metadata": {
    "execution": {
     "iopub.execute_input": "2024-02-15T07:58:09.175705Z",
     "iopub.status.busy": "2024-02-15T07:58:09.174030Z",
     "iopub.status.idle": "2024-02-15T07:58:09.217516Z",
     "shell.execute_reply": "2024-02-15T07:58:09.215360Z",
     "shell.execute_reply.started": "2024-02-15T07:58:09.175705Z"
    }
   },
   "outputs": [
    {
     "name": "stdout",
     "output_type": "stream",
     "text": [
      "Current working directory: notebooks\n",
      "Current working directory (Changed): Lending-Approval-Predictor\n"
     ]
    }
   ],
   "source": [
    "# Setting up execution path\n",
    "import os\n",
    "\n",
    "print(f\"Current working directory: {os.path.basename(os.getcwd())}\")\n",
    "\n",
    "# Change to root directory\n",
    "os.chdir(\"../\")\n",
    "print(f\"Current working directory (Changed): {os.path.basename(os.getcwd())}\")"
   ]
  },
  {
   "cell_type": "code",
   "execution_count": 2,
   "metadata": {
    "execution": {
     "iopub.execute_input": "2024-02-15T07:58:10.234626Z",
     "iopub.status.busy": "2024-02-15T07:58:10.234626Z",
     "iopub.status.idle": "2024-02-15T07:58:15.720548Z",
     "shell.execute_reply": "2024-02-15T07:58:15.718559Z",
     "shell.execute_reply.started": "2024-02-15T07:58:10.234626Z"
    }
   },
   "outputs": [],
   "source": [
    "#imports\n",
    "import numpy as np\n",
    "import pandas as pd\n",
    "import matplotlib.pyplot as plt\n",
    "import seaborn as sns\n",
    "import warnings\n",
    "\n",
    "# module setup\n",
    "%matplotlib inline\n",
    "pd.options.display.precision = 3\n",
    "warnings.filterwarnings(\"ignore\")"
   ]
  },
  {
   "cell_type": "code",
   "execution_count": 3,
   "metadata": {
    "execution": {
     "iopub.execute_input": "2024-02-15T07:58:15.725549Z",
     "iopub.status.busy": "2024-02-15T07:58:15.724636Z",
     "iopub.status.idle": "2024-02-15T07:58:15.736664Z",
     "shell.execute_reply": "2024-02-15T07:58:15.734080Z",
     "shell.execute_reply.started": "2024-02-15T07:58:15.725549Z"
    }
   },
   "outputs": [],
   "source": [
    "from os.path import dirname, normpath"
   ]
  },
  {
   "cell_type": "code",
   "execution_count": 4,
   "metadata": {
    "execution": {
     "iopub.execute_input": "2024-02-15T07:58:15.745624Z",
     "iopub.status.busy": "2024-02-15T07:58:15.744638Z",
     "iopub.status.idle": "2024-02-15T07:58:15.986848Z",
     "shell.execute_reply": "2024-02-15T07:58:15.984167Z",
     "shell.execute_reply.started": "2024-02-15T07:58:15.745624Z"
    }
   },
   "outputs": [],
   "source": [
    "from src.constants import CONFIGS, PARAMS\n",
    "from src.exception import CustomException\n",
    "from src.logger import logger\n",
    "from src.utils.basic_utils import create_directories, read_yaml"
   ]
  },
  {
   "cell_type": "code",
   "execution_count": 5,
   "metadata": {
    "execution": {
     "iopub.execute_input": "2024-02-15T07:58:15.992677Z",
     "iopub.status.busy": "2024-02-15T07:58:15.991687Z",
     "iopub.status.idle": "2024-02-15T07:58:16.032496Z",
     "shell.execute_reply": "2024-02-15T07:58:16.030495Z",
     "shell.execute_reply.started": "2024-02-15T07:58:15.992677Z"
    }
   },
   "outputs": [
    {
     "name": "stdout",
     "output_type": "stream",
     "text": [
      "[2024-02-15 01:28:16 PM]:ProjectLogger INFO:basic_utils 43 - yaml file: conf\\configs.yaml loaded successfully\n"
     ]
    }
   ],
   "source": [
    "# Read the configuration files\n",
    "configs = read_yaml(CONFIGS).model_evaluation\n",
    "\n",
    "# Train and test array paths\n",
    "train_array_path = normpath(configs.train_array_path)\n",
    "test_array_path = normpath(configs.test_array_path)"
   ]
  },
  {
   "cell_type": "code",
   "execution_count": 6,
   "metadata": {
    "execution": {
     "iopub.execute_input": "2024-02-15T07:58:16.037005Z",
     "iopub.status.busy": "2024-02-15T07:58:16.035495Z",
     "iopub.status.idle": "2024-02-15T07:58:16.064149Z",
     "shell.execute_reply": "2024-02-15T07:58:16.062149Z",
     "shell.execute_reply.started": "2024-02-15T07:58:16.037005Z"
    }
   },
   "outputs": [
    {
     "name": "stdout",
     "output_type": "stream",
     "text": [
      "The shape of x_train: (7662, 19)\n",
      "The shape of y_train: (7662,)\n",
      "The shape of x_test: (1916, 19)\n",
      "The shape of y_test: (1916,)\n"
     ]
    }
   ],
   "source": [
    "# Load the training and test set array\n",
    "train_array = np.load(train_array_path)\n",
    "test_array = np.load(test_array_path)\n",
    "\n",
    "# Split train_array into features and target\n",
    "x_train, y_train = train_array[:, :-1], train_array[:, -1]\n",
    "x_test, y_test = test_array[:, :-1], test_array[:, -1]\n",
    "\n",
    "# Log the shapes\n",
    "print(f\"The shape of x_train: {x_train.shape}\")\n",
    "print(f\"The shape of y_train: {y_train.shape}\")\n",
    "\n",
    "print(f\"The shape of x_test: {x_test.shape}\")\n",
    "print(f\"The shape of y_test: {y_test.shape}\")"
   ]
  },
  {
   "cell_type": "code",
   "execution_count": 7,
   "metadata": {
    "execution": {
     "iopub.execute_input": "2024-02-15T07:58:16.349583Z",
     "iopub.status.busy": "2024-02-15T07:58:16.347581Z",
     "iopub.status.idle": "2024-02-15T07:58:17.356729Z",
     "shell.execute_reply": "2024-02-15T07:58:17.353185Z",
     "shell.execute_reply.started": "2024-02-15T07:58:16.349583Z"
    }
   },
   "outputs": [],
   "source": [
    "from sklearn.tree import DecisionTreeClassifier\n",
    "from sklearn.ensemble import RandomForestClassifier"
   ]
  },
  {
   "cell_type": "code",
   "execution_count": 8,
   "metadata": {
    "execution": {
     "iopub.execute_input": "2024-02-15T07:58:17.361762Z",
     "iopub.status.busy": "2024-02-15T07:58:17.359753Z",
     "iopub.status.idle": "2024-02-15T07:58:17.387875Z",
     "shell.execute_reply": "2024-02-15T07:58:17.384287Z",
     "shell.execute_reply.started": "2024-02-15T07:58:17.361762Z"
    }
   },
   "outputs": [],
   "source": [
    "models = {\n",
    "    \"Decision Tree\": DecisionTreeClassifier(),\n",
    "    \"Random Forest\": RandomForestClassifier(),\n",
    "}"
   ]
  },
  {
   "cell_type": "code",
   "execution_count": 9,
   "metadata": {
    "execution": {
     "iopub.execute_input": "2024-02-15T07:58:18.700731Z",
     "iopub.status.busy": "2024-02-15T07:58:18.697788Z",
     "iopub.status.idle": "2024-02-15T07:58:18.723811Z",
     "shell.execute_reply": "2024-02-15T07:58:18.720808Z",
     "shell.execute_reply.started": "2024-02-15T07:58:18.700731Z"
    }
   },
   "outputs": [
    {
     "name": "stdout",
     "output_type": "stream",
     "text": [
      "[2024-02-15 01:28:18 PM]:ProjectLogger INFO:basic_utils 43 - yaml file: conf\\params.yaml loaded successfully\n"
     ]
    }
   ],
   "source": [
    "# Read the params files\n",
    "params = read_yaml(PARAMS)"
   ]
  },
  {
   "cell_type": "code",
   "execution_count": 10,
   "metadata": {
    "execution": {
     "iopub.execute_input": "2024-02-15T07:58:19.338417Z",
     "iopub.status.busy": "2024-02-15T07:58:19.337419Z",
     "iopub.status.idle": "2024-02-15T07:58:19.362506Z",
     "shell.execute_reply": "2024-02-15T07:58:19.358475Z",
     "shell.execute_reply.started": "2024-02-15T07:58:19.338417Z"
    }
   },
   "outputs": [
    {
     "name": "stdout",
     "output_type": "stream",
     "text": [
      "{'criterion': ['gini', 'entropy', 'log_loss'], 'max_features': ['sqrt', 'log2'], 'n_estimators': [8, 16, 32, 64, 128, 256]}\n",
      "{'criterion': ['gini', 'entropy', 'log_loss'], 'splitter': ['best', 'random'], 'max_features': ['sqrt', 'log2']}\n"
     ]
    }
   ],
   "source": [
    "# Params content\n",
    "print(params.random_forest.to_dict())\n",
    "print(params.decision_tree.to_dict())"
   ]
  },
  {
   "cell_type": "code",
   "execution_count": 11,
   "metadata": {
    "execution": {
     "iopub.execute_input": "2024-02-15T07:58:20.587429Z",
     "iopub.status.busy": "2024-02-15T07:58:20.587429Z",
     "iopub.status.idle": "2024-02-15T07:58:20.609076Z",
     "shell.execute_reply": "2024-02-15T07:58:20.605511Z",
     "shell.execute_reply.started": "2024-02-15T07:58:20.587429Z"
    }
   },
   "outputs": [],
   "source": [
    "hyper_params = {\n",
    "    \"Decision Tree\": params.decision_tree.to_dict(),\n",
    "    \"Random Forest\": params.random_forest.to_dict(),\n",
    "}"
   ]
  },
  {
   "cell_type": "code",
   "execution_count": 12,
   "metadata": {
    "execution": {
     "iopub.execute_input": "2024-02-15T07:58:26.709067Z",
     "iopub.status.busy": "2024-02-15T07:58:26.707010Z",
     "iopub.status.idle": "2024-02-15T07:58:26.721625Z",
     "shell.execute_reply": "2024-02-15T07:58:26.718624Z",
     "shell.execute_reply.started": "2024-02-15T07:58:26.709067Z"
    }
   },
   "outputs": [],
   "source": [
    "from sklearn.model_selection import GridSearchCV\n",
    "from sklearn.metrics import f1_score"
   ]
  },
  {
   "cell_type": "code",
   "execution_count": 13,
   "metadata": {
    "execution": {
     "iopub.execute_input": "2024-02-15T07:58:27.290663Z",
     "iopub.status.busy": "2024-02-15T07:58:27.283120Z",
     "iopub.status.idle": "2024-02-15T07:58:27.312343Z",
     "shell.execute_reply": "2024-02-15T07:58:27.309346Z",
     "shell.execute_reply.started": "2024-02-15T07:58:27.290663Z"
    }
   },
   "outputs": [],
   "source": [
    "from src.utils.model_utils import evaluate_classification_models, get_best_model"
   ]
  },
  {
   "cell_type": "code",
   "execution_count": 14,
   "metadata": {
    "execution": {
     "iopub.execute_input": "2024-02-15T07:58:27.914784Z",
     "iopub.status.busy": "2024-02-15T07:58:27.914784Z",
     "iopub.status.idle": "2024-02-15T08:05:44.408075Z",
     "shell.execute_reply": "2024-02-15T08:05:44.404531Z",
     "shell.execute_reply.started": "2024-02-15T07:58:27.914784Z"
    }
   },
   "outputs": [
    {
     "name": "stdout",
     "output_type": "stream",
     "text": [
      "[2024-02-15 01:28:27 PM]:ProjectLogger INFO:model_utils 41 - Evaluating Decision Tree model\n",
      "[2024-02-15 01:28:27 PM]:ProjectLogger INFO:model_utils 46 - Started grid search over possible hyperparameters\n",
      "[2024-02-15 01:28:29 PM]:ProjectLogger INFO:model_utils 51 - Fitting Decision Tree model with best parameters found\n",
      "[2024-02-15 01:28:29 PM]:ProjectLogger INFO:model_utils 56 - Performing prediction over the training and test data\n",
      "[2024-02-15 01:28:29 PM]:ProjectLogger INFO:model_utils 61 - Evaluating the Decision Tree model\n",
      "[2024-02-15 01:28:30 PM]:ProjectLogger INFO:model_utils 41 - Evaluating Random Forest model\n",
      "[2024-02-15 01:28:30 PM]:ProjectLogger INFO:model_utils 46 - Started grid search over possible hyperparameters\n",
      "[2024-02-15 01:35:39 PM]:ProjectLogger INFO:model_utils 51 - Fitting Random Forest model with best parameters found\n",
      "[2024-02-15 01:35:44 PM]:ProjectLogger INFO:model_utils 56 - Performing prediction over the training and test data\n",
      "[2024-02-15 01:35:44 PM]:ProjectLogger INFO:model_utils 61 - Evaluating the Random Forest model\n"
     ]
    }
   ],
   "source": [
    "model_scores = evaluate_classification_models(\n",
    "    x_train=x_train, y_train=y_train, x_test=x_test, y_test=y_test, \n",
    "    models=models, params=hyper_params, binary_classification=True)"
   ]
  },
  {
   "cell_type": "code",
   "execution_count": 15,
   "metadata": {
    "execution": {
     "iopub.execute_input": "2024-02-15T08:05:44.415105Z",
     "iopub.status.busy": "2024-02-15T08:05:44.413093Z",
     "iopub.status.idle": "2024-02-15T08:05:44.456084Z",
     "shell.execute_reply": "2024-02-15T08:05:44.453078Z",
     "shell.execute_reply.started": "2024-02-15T08:05:44.414093Z"
    }
   },
   "outputs": [
    {
     "data": {
      "text/plain": [
       "[{'model_name': 'Decision Tree',\n",
       "  'model': DecisionTreeClassifier(max_features='sqrt'),\n",
       "  'hyperparameters': {'criterion': 'gini',\n",
       "   'max_features': 'sqrt',\n",
       "   'splitter': 'best'},\n",
       "  'accuracy_score_train': 1.0,\n",
       "  'precision_score_train': 1.0,\n",
       "  'recall_score_train': 1.0,\n",
       "  'f1_score_train': 1.0,\n",
       "  'accuracy_score_test': 0.9702505219206681,\n",
       "  'precision_score_test': 0.9806076276664512,\n",
       "  'recall_score_test': 0.9825129533678757,\n",
       "  'f1_score_test': 0.9815593659010029},\n",
       " {'model_name': 'Random Forest',\n",
       "  'model': RandomForestClassifier(n_estimators=128),\n",
       "  'hyperparameters': {'criterion': 'gini',\n",
       "   'max_features': 'sqrt',\n",
       "   'n_estimators': 128},\n",
       "  'accuracy_score_train': 1.0,\n",
       "  'precision_score_train': 1.0,\n",
       "  'recall_score_train': 1.0,\n",
       "  'f1_score_train': 1.0,\n",
       "  'accuracy_score_test': 0.9859081419624217,\n",
       "  'precision_score_test': 0.9884095299420477,\n",
       "  'recall_score_test': 0.9941709844559585,\n",
       "  'f1_score_test': 0.9912818856958346}]"
      ]
     },
     "execution_count": 15,
     "metadata": {},
     "output_type": "execute_result"
    }
   ],
   "source": [
    "model_scores"
   ]
  },
  {
   "cell_type": "code",
   "execution_count": 16,
   "metadata": {
    "execution": {
     "iopub.execute_input": "2024-02-15T08:05:44.467767Z",
     "iopub.status.busy": "2024-02-15T08:05:44.463223Z",
     "iopub.status.idle": "2024-02-15T08:05:44.656053Z",
     "shell.execute_reply": "2024-02-15T08:05:44.653091Z",
     "shell.execute_reply.started": "2024-02-15T08:05:44.467767Z"
    }
   },
   "outputs": [
    {
     "data": {
      "text/html": [
       "<div>\n",
       "<style scoped>\n",
       "    .dataframe tbody tr th:only-of-type {\n",
       "        vertical-align: middle;\n",
       "    }\n",
       "\n",
       "    .dataframe tbody tr th {\n",
       "        vertical-align: top;\n",
       "    }\n",
       "\n",
       "    .dataframe thead th {\n",
       "        text-align: right;\n",
       "    }\n",
       "</style>\n",
       "<table border=\"1\" class=\"dataframe\">\n",
       "  <thead>\n",
       "    <tr style=\"text-align: right;\">\n",
       "      <th></th>\n",
       "      <th>model_name</th>\n",
       "      <th>model</th>\n",
       "      <th>hyperparameters</th>\n",
       "      <th>accuracy_score_train</th>\n",
       "      <th>precision_score_train</th>\n",
       "      <th>recall_score_train</th>\n",
       "      <th>f1_score_train</th>\n",
       "      <th>accuracy_score_test</th>\n",
       "      <th>precision_score_test</th>\n",
       "      <th>recall_score_test</th>\n",
       "      <th>f1_score_test</th>\n",
       "    </tr>\n",
       "  </thead>\n",
       "  <tbody>\n",
       "    <tr>\n",
       "      <th>0</th>\n",
       "      <td>Decision Tree</td>\n",
       "      <td>DecisionTreeClassifier(max_features='sqrt')</td>\n",
       "      <td>{'criterion': 'gini', 'max_features': 'sqrt', ...</td>\n",
       "      <td>1.0</td>\n",
       "      <td>1.0</td>\n",
       "      <td>1.0</td>\n",
       "      <td>1.0</td>\n",
       "      <td>0.970</td>\n",
       "      <td>0.981</td>\n",
       "      <td>0.983</td>\n",
       "      <td>0.982</td>\n",
       "    </tr>\n",
       "    <tr>\n",
       "      <th>1</th>\n",
       "      <td>Random Forest</td>\n",
       "      <td>(DecisionTreeClassifier(max_features='sqrt', r...</td>\n",
       "      <td>{'criterion': 'gini', 'max_features': 'sqrt', ...</td>\n",
       "      <td>1.0</td>\n",
       "      <td>1.0</td>\n",
       "      <td>1.0</td>\n",
       "      <td>1.0</td>\n",
       "      <td>0.986</td>\n",
       "      <td>0.988</td>\n",
       "      <td>0.994</td>\n",
       "      <td>0.991</td>\n",
       "    </tr>\n",
       "  </tbody>\n",
       "</table>\n",
       "</div>"
      ],
      "text/plain": [
       "      model_name                                              model  \\\n",
       "0  Decision Tree        DecisionTreeClassifier(max_features='sqrt')   \n",
       "1  Random Forest  (DecisionTreeClassifier(max_features='sqrt', r...   \n",
       "\n",
       "                                     hyperparameters  accuracy_score_train  \\\n",
       "0  {'criterion': 'gini', 'max_features': 'sqrt', ...                   1.0   \n",
       "1  {'criterion': 'gini', 'max_features': 'sqrt', ...                   1.0   \n",
       "\n",
       "   precision_score_train  recall_score_train  f1_score_train  \\\n",
       "0                    1.0                 1.0             1.0   \n",
       "1                    1.0                 1.0             1.0   \n",
       "\n",
       "   accuracy_score_test  precision_score_test  recall_score_test  f1_score_test  \n",
       "0                0.970                 0.981              0.983          0.982  \n",
       "1                0.986                 0.988              0.994          0.991  "
      ]
     },
     "execution_count": 16,
     "metadata": {},
     "output_type": "execute_result"
    }
   ],
   "source": [
    "scores_df = pd.DataFrame(model_scores)\n",
    "scores_df"
   ]
  },
  {
   "cell_type": "code",
   "execution_count": 17,
   "metadata": {
    "execution": {
     "iopub.execute_input": "2024-02-15T08:05:44.667769Z",
     "iopub.status.busy": "2024-02-15T08:05:44.664623Z",
     "iopub.status.idle": "2024-02-15T08:05:44.704965Z",
     "shell.execute_reply": "2024-02-15T08:05:44.699970Z",
     "shell.execute_reply.started": "2024-02-15T08:05:44.667769Z"
    }
   },
   "outputs": [
    {
     "data": {
      "text/plain": [
       "{'model_name': 'Random Forest',\n",
       " 'model': RandomForestClassifier(n_estimators=128),\n",
       " 'hyperparameters': {'criterion': 'gini',\n",
       "  'max_features': 'sqrt',\n",
       "  'n_estimators': 128}}"
      ]
     },
     "execution_count": 17,
     "metadata": {},
     "output_type": "execute_result"
    }
   ],
   "source": [
    "best_model = get_best_model(scores_df, evaluation_metric=\"f1_score_test\")\n",
    "best_model"
   ]
  },
  {
   "cell_type": "code",
   "execution_count": 18,
   "metadata": {
    "execution": {
     "iopub.execute_input": "2024-02-15T08:05:44.713519Z",
     "iopub.status.busy": "2024-02-15T08:05:44.710523Z",
     "iopub.status.idle": "2024-02-15T08:05:44.765333Z",
     "shell.execute_reply": "2024-02-15T08:05:44.762322Z",
     "shell.execute_reply.started": "2024-02-15T08:05:44.713519Z"
    }
   },
   "outputs": [
    {
     "data": {
      "text/html": [
       "<style>#sk-container-id-1 {\n",
       "  /* Definition of color scheme common for light and dark mode */\n",
       "  --sklearn-color-text: black;\n",
       "  --sklearn-color-line: gray;\n",
       "  /* Definition of color scheme for unfitted estimators */\n",
       "  --sklearn-color-unfitted-level-0: #fff5e6;\n",
       "  --sklearn-color-unfitted-level-1: #f6e4d2;\n",
       "  --sklearn-color-unfitted-level-2: #ffe0b3;\n",
       "  --sklearn-color-unfitted-level-3: chocolate;\n",
       "  /* Definition of color scheme for fitted estimators */\n",
       "  --sklearn-color-fitted-level-0: #f0f8ff;\n",
       "  --sklearn-color-fitted-level-1: #d4ebff;\n",
       "  --sklearn-color-fitted-level-2: #b3dbfd;\n",
       "  --sklearn-color-fitted-level-3: cornflowerblue;\n",
       "\n",
       "  /* Specific color for light theme */\n",
       "  --sklearn-color-text-on-default-background: var(--sg-text-color, var(--theme-code-foreground, var(--jp-content-font-color1, black)));\n",
       "  --sklearn-color-background: var(--sg-background-color, var(--theme-background, var(--jp-layout-color0, white)));\n",
       "  --sklearn-color-border-box: var(--sg-text-color, var(--theme-code-foreground, var(--jp-content-font-color1, black)));\n",
       "  --sklearn-color-icon: #696969;\n",
       "\n",
       "  @media (prefers-color-scheme: dark) {\n",
       "    /* Redefinition of color scheme for dark theme */\n",
       "    --sklearn-color-text-on-default-background: var(--sg-text-color, var(--theme-code-foreground, var(--jp-content-font-color1, white)));\n",
       "    --sklearn-color-background: var(--sg-background-color, var(--theme-background, var(--jp-layout-color0, #111)));\n",
       "    --sklearn-color-border-box: var(--sg-text-color, var(--theme-code-foreground, var(--jp-content-font-color1, white)));\n",
       "    --sklearn-color-icon: #878787;\n",
       "  }\n",
       "}\n",
       "\n",
       "#sk-container-id-1 {\n",
       "  color: var(--sklearn-color-text);\n",
       "}\n",
       "\n",
       "#sk-container-id-1 pre {\n",
       "  padding: 0;\n",
       "}\n",
       "\n",
       "#sk-container-id-1 input.sk-hidden--visually {\n",
       "  border: 0;\n",
       "  clip: rect(1px 1px 1px 1px);\n",
       "  clip: rect(1px, 1px, 1px, 1px);\n",
       "  height: 1px;\n",
       "  margin: -1px;\n",
       "  overflow: hidden;\n",
       "  padding: 0;\n",
       "  position: absolute;\n",
       "  width: 1px;\n",
       "}\n",
       "\n",
       "#sk-container-id-1 div.sk-dashed-wrapped {\n",
       "  border: 1px dashed var(--sklearn-color-line);\n",
       "  margin: 0 0.4em 0.5em 0.4em;\n",
       "  box-sizing: border-box;\n",
       "  padding-bottom: 0.4em;\n",
       "  background-color: var(--sklearn-color-background);\n",
       "}\n",
       "\n",
       "#sk-container-id-1 div.sk-container {\n",
       "  /* jupyter's `normalize.less` sets `[hidden] { display: none; }`\n",
       "     but bootstrap.min.css set `[hidden] { display: none !important; }`\n",
       "     so we also need the `!important` here to be able to override the\n",
       "     default hidden behavior on the sphinx rendered scikit-learn.org.\n",
       "     See: https://github.com/scikit-learn/scikit-learn/issues/21755 */\n",
       "  display: inline-block !important;\n",
       "  position: relative;\n",
       "}\n",
       "\n",
       "#sk-container-id-1 div.sk-text-repr-fallback {\n",
       "  display: none;\n",
       "}\n",
       "\n",
       "div.sk-parallel-item,\n",
       "div.sk-serial,\n",
       "div.sk-item {\n",
       "  /* draw centered vertical line to link estimators */\n",
       "  background-image: linear-gradient(var(--sklearn-color-text-on-default-background), var(--sklearn-color-text-on-default-background));\n",
       "  background-size: 2px 100%;\n",
       "  background-repeat: no-repeat;\n",
       "  background-position: center center;\n",
       "}\n",
       "\n",
       "/* Parallel-specific style estimator block */\n",
       "\n",
       "#sk-container-id-1 div.sk-parallel-item::after {\n",
       "  content: \"\";\n",
       "  width: 100%;\n",
       "  border-bottom: 2px solid var(--sklearn-color-text-on-default-background);\n",
       "  flex-grow: 1;\n",
       "}\n",
       "\n",
       "#sk-container-id-1 div.sk-parallel {\n",
       "  display: flex;\n",
       "  align-items: stretch;\n",
       "  justify-content: center;\n",
       "  background-color: var(--sklearn-color-background);\n",
       "  position: relative;\n",
       "}\n",
       "\n",
       "#sk-container-id-1 div.sk-parallel-item {\n",
       "  display: flex;\n",
       "  flex-direction: column;\n",
       "}\n",
       "\n",
       "#sk-container-id-1 div.sk-parallel-item:first-child::after {\n",
       "  align-self: flex-end;\n",
       "  width: 50%;\n",
       "}\n",
       "\n",
       "#sk-container-id-1 div.sk-parallel-item:last-child::after {\n",
       "  align-self: flex-start;\n",
       "  width: 50%;\n",
       "}\n",
       "\n",
       "#sk-container-id-1 div.sk-parallel-item:only-child::after {\n",
       "  width: 0;\n",
       "}\n",
       "\n",
       "/* Serial-specific style estimator block */\n",
       "\n",
       "#sk-container-id-1 div.sk-serial {\n",
       "  display: flex;\n",
       "  flex-direction: column;\n",
       "  align-items: center;\n",
       "  background-color: var(--sklearn-color-background);\n",
       "  padding-right: 1em;\n",
       "  padding-left: 1em;\n",
       "}\n",
       "\n",
       "\n",
       "/* Toggleable style: style used for estimator/Pipeline/ColumnTransformer box that is\n",
       "clickable and can be expanded/collapsed.\n",
       "- Pipeline and ColumnTransformer use this feature and define the default style\n",
       "- Estimators will overwrite some part of the style using the `sk-estimator` class\n",
       "*/\n",
       "\n",
       "/* Pipeline and ColumnTransformer style (default) */\n",
       "\n",
       "#sk-container-id-1 div.sk-toggleable {\n",
       "  /* Default theme specific background. It is overwritten whether we have a\n",
       "  specific estimator or a Pipeline/ColumnTransformer */\n",
       "  background-color: var(--sklearn-color-background);\n",
       "}\n",
       "\n",
       "/* Toggleable label */\n",
       "#sk-container-id-1 label.sk-toggleable__label {\n",
       "  cursor: pointer;\n",
       "  display: block;\n",
       "  width: 100%;\n",
       "  margin-bottom: 0;\n",
       "  padding: 0.5em;\n",
       "  box-sizing: border-box;\n",
       "  text-align: center;\n",
       "}\n",
       "\n",
       "#sk-container-id-1 label.sk-toggleable__label-arrow:before {\n",
       "  /* Arrow on the left of the label */\n",
       "  content: \"▸\";\n",
       "  float: left;\n",
       "  margin-right: 0.25em;\n",
       "  color: var(--sklearn-color-icon);\n",
       "}\n",
       "\n",
       "#sk-container-id-1 label.sk-toggleable__label-arrow:hover:before {\n",
       "  color: var(--sklearn-color-text);\n",
       "}\n",
       "\n",
       "/* Toggleable content - dropdown */\n",
       "\n",
       "#sk-container-id-1 div.sk-toggleable__content {\n",
       "  max-height: 0;\n",
       "  max-width: 0;\n",
       "  overflow: hidden;\n",
       "  text-align: left;\n",
       "  /* unfitted */\n",
       "  background-color: var(--sklearn-color-unfitted-level-0);\n",
       "}\n",
       "\n",
       "#sk-container-id-1 div.sk-toggleable__content.fitted {\n",
       "  /* fitted */\n",
       "  background-color: var(--sklearn-color-fitted-level-0);\n",
       "}\n",
       "\n",
       "#sk-container-id-1 div.sk-toggleable__content pre {\n",
       "  margin: 0.2em;\n",
       "  border-radius: 0.25em;\n",
       "  color: var(--sklearn-color-text);\n",
       "  /* unfitted */\n",
       "  background-color: var(--sklearn-color-unfitted-level-0);\n",
       "}\n",
       "\n",
       "#sk-container-id-1 div.sk-toggleable__content.fitted pre {\n",
       "  /* unfitted */\n",
       "  background-color: var(--sklearn-color-fitted-level-0);\n",
       "}\n",
       "\n",
       "#sk-container-id-1 input.sk-toggleable__control:checked~div.sk-toggleable__content {\n",
       "  /* Expand drop-down */\n",
       "  max-height: 200px;\n",
       "  max-width: 100%;\n",
       "  overflow: auto;\n",
       "}\n",
       "\n",
       "#sk-container-id-1 input.sk-toggleable__control:checked~label.sk-toggleable__label-arrow:before {\n",
       "  content: \"▾\";\n",
       "}\n",
       "\n",
       "/* Pipeline/ColumnTransformer-specific style */\n",
       "\n",
       "#sk-container-id-1 div.sk-label input.sk-toggleable__control:checked~label.sk-toggleable__label {\n",
       "  color: var(--sklearn-color-text);\n",
       "  background-color: var(--sklearn-color-unfitted-level-2);\n",
       "}\n",
       "\n",
       "#sk-container-id-1 div.sk-label.fitted input.sk-toggleable__control:checked~label.sk-toggleable__label {\n",
       "  background-color: var(--sklearn-color-fitted-level-2);\n",
       "}\n",
       "\n",
       "/* Estimator-specific style */\n",
       "\n",
       "/* Colorize estimator box */\n",
       "#sk-container-id-1 div.sk-estimator input.sk-toggleable__control:checked~label.sk-toggleable__label {\n",
       "  /* unfitted */\n",
       "  background-color: var(--sklearn-color-unfitted-level-2);\n",
       "}\n",
       "\n",
       "#sk-container-id-1 div.sk-estimator.fitted input.sk-toggleable__control:checked~label.sk-toggleable__label {\n",
       "  /* fitted */\n",
       "  background-color: var(--sklearn-color-fitted-level-2);\n",
       "}\n",
       "\n",
       "#sk-container-id-1 div.sk-label label.sk-toggleable__label,\n",
       "#sk-container-id-1 div.sk-label label {\n",
       "  /* The background is the default theme color */\n",
       "  color: var(--sklearn-color-text-on-default-background);\n",
       "}\n",
       "\n",
       "/* On hover, darken the color of the background */\n",
       "#sk-container-id-1 div.sk-label:hover label.sk-toggleable__label {\n",
       "  color: var(--sklearn-color-text);\n",
       "  background-color: var(--sklearn-color-unfitted-level-2);\n",
       "}\n",
       "\n",
       "/* Label box, darken color on hover, fitted */\n",
       "#sk-container-id-1 div.sk-label.fitted:hover label.sk-toggleable__label.fitted {\n",
       "  color: var(--sklearn-color-text);\n",
       "  background-color: var(--sklearn-color-fitted-level-2);\n",
       "}\n",
       "\n",
       "/* Estimator label */\n",
       "\n",
       "#sk-container-id-1 div.sk-label label {\n",
       "  font-family: monospace;\n",
       "  font-weight: bold;\n",
       "  display: inline-block;\n",
       "  line-height: 1.2em;\n",
       "}\n",
       "\n",
       "#sk-container-id-1 div.sk-label-container {\n",
       "  text-align: center;\n",
       "}\n",
       "\n",
       "/* Estimator-specific */\n",
       "#sk-container-id-1 div.sk-estimator {\n",
       "  font-family: monospace;\n",
       "  border: 1px dotted var(--sklearn-color-border-box);\n",
       "  border-radius: 0.25em;\n",
       "  box-sizing: border-box;\n",
       "  margin-bottom: 0.5em;\n",
       "  /* unfitted */\n",
       "  background-color: var(--sklearn-color-unfitted-level-0);\n",
       "}\n",
       "\n",
       "#sk-container-id-1 div.sk-estimator.fitted {\n",
       "  /* fitted */\n",
       "  background-color: var(--sklearn-color-fitted-level-0);\n",
       "}\n",
       "\n",
       "/* on hover */\n",
       "#sk-container-id-1 div.sk-estimator:hover {\n",
       "  /* unfitted */\n",
       "  background-color: var(--sklearn-color-unfitted-level-2);\n",
       "}\n",
       "\n",
       "#sk-container-id-1 div.sk-estimator.fitted:hover {\n",
       "  /* fitted */\n",
       "  background-color: var(--sklearn-color-fitted-level-2);\n",
       "}\n",
       "\n",
       "/* Specification for estimator info (e.g. \"i\" and \"?\") */\n",
       "\n",
       "/* Common style for \"i\" and \"?\" */\n",
       "\n",
       ".sk-estimator-doc-link,\n",
       "a:link.sk-estimator-doc-link,\n",
       "a:visited.sk-estimator-doc-link {\n",
       "  float: right;\n",
       "  font-size: smaller;\n",
       "  line-height: 1em;\n",
       "  font-family: monospace;\n",
       "  background-color: var(--sklearn-color-background);\n",
       "  border-radius: 1em;\n",
       "  height: 1em;\n",
       "  width: 1em;\n",
       "  text-decoration: none !important;\n",
       "  margin-left: 1ex;\n",
       "  /* unfitted */\n",
       "  border: var(--sklearn-color-unfitted-level-1) 1pt solid;\n",
       "  color: var(--sklearn-color-unfitted-level-1);\n",
       "}\n",
       "\n",
       ".sk-estimator-doc-link.fitted,\n",
       "a:link.sk-estimator-doc-link.fitted,\n",
       "a:visited.sk-estimator-doc-link.fitted {\n",
       "  /* fitted */\n",
       "  border: var(--sklearn-color-fitted-level-1) 1pt solid;\n",
       "  color: var(--sklearn-color-fitted-level-1);\n",
       "}\n",
       "\n",
       "/* On hover */\n",
       "div.sk-estimator:hover .sk-estimator-doc-link:hover,\n",
       ".sk-estimator-doc-link:hover,\n",
       "div.sk-label-container:hover .sk-estimator-doc-link:hover,\n",
       ".sk-estimator-doc-link:hover {\n",
       "  /* unfitted */\n",
       "  background-color: var(--sklearn-color-unfitted-level-3);\n",
       "  color: var(--sklearn-color-background);\n",
       "  text-decoration: none;\n",
       "}\n",
       "\n",
       "div.sk-estimator.fitted:hover .sk-estimator-doc-link.fitted:hover,\n",
       ".sk-estimator-doc-link.fitted:hover,\n",
       "div.sk-label-container:hover .sk-estimator-doc-link.fitted:hover,\n",
       ".sk-estimator-doc-link.fitted:hover {\n",
       "  /* fitted */\n",
       "  background-color: var(--sklearn-color-fitted-level-3);\n",
       "  color: var(--sklearn-color-background);\n",
       "  text-decoration: none;\n",
       "}\n",
       "\n",
       "/* Span, style for the box shown on hovering the info icon */\n",
       ".sk-estimator-doc-link span {\n",
       "  display: none;\n",
       "  z-index: 9999;\n",
       "  position: relative;\n",
       "  font-weight: normal;\n",
       "  right: .2ex;\n",
       "  padding: .5ex;\n",
       "  margin: .5ex;\n",
       "  width: min-content;\n",
       "  min-width: 20ex;\n",
       "  max-width: 50ex;\n",
       "  color: var(--sklearn-color-text);\n",
       "  box-shadow: 2pt 2pt 4pt #999;\n",
       "  /* unfitted */\n",
       "  background: var(--sklearn-color-unfitted-level-0);\n",
       "  border: .5pt solid var(--sklearn-color-unfitted-level-3);\n",
       "}\n",
       "\n",
       ".sk-estimator-doc-link.fitted span {\n",
       "  /* fitted */\n",
       "  background: var(--sklearn-color-fitted-level-0);\n",
       "  border: var(--sklearn-color-fitted-level-3);\n",
       "}\n",
       "\n",
       ".sk-estimator-doc-link:hover span {\n",
       "  display: block;\n",
       "}\n",
       "\n",
       "/* \"?\"-specific style due to the `<a>` HTML tag */\n",
       "\n",
       "#sk-container-id-1 a.estimator_doc_link {\n",
       "  float: right;\n",
       "  font-size: 1rem;\n",
       "  line-height: 1em;\n",
       "  font-family: monospace;\n",
       "  background-color: var(--sklearn-color-background);\n",
       "  border-radius: 1rem;\n",
       "  height: 1rem;\n",
       "  width: 1rem;\n",
       "  text-decoration: none;\n",
       "  /* unfitted */\n",
       "  color: var(--sklearn-color-unfitted-level-1);\n",
       "  border: var(--sklearn-color-unfitted-level-1) 1pt solid;\n",
       "}\n",
       "\n",
       "#sk-container-id-1 a.estimator_doc_link.fitted {\n",
       "  /* fitted */\n",
       "  border: var(--sklearn-color-fitted-level-1) 1pt solid;\n",
       "  color: var(--sklearn-color-fitted-level-1);\n",
       "}\n",
       "\n",
       "/* On hover */\n",
       "#sk-container-id-1 a.estimator_doc_link:hover {\n",
       "  /* unfitted */\n",
       "  background-color: var(--sklearn-color-unfitted-level-3);\n",
       "  color: var(--sklearn-color-background);\n",
       "  text-decoration: none;\n",
       "}\n",
       "\n",
       "#sk-container-id-1 a.estimator_doc_link.fitted:hover {\n",
       "  /* fitted */\n",
       "  background-color: var(--sklearn-color-fitted-level-3);\n",
       "}\n",
       "</style><div id=\"sk-container-id-1\" class=\"sk-top-container\"><div class=\"sk-text-repr-fallback\"><pre>RandomForestClassifier(n_estimators=128)</pre><b>In a Jupyter environment, please rerun this cell to show the HTML representation or trust the notebook. <br />On GitHub, the HTML representation is unable to render, please try loading this page with nbviewer.org.</b></div><div class=\"sk-container\" hidden><div class=\"sk-item\"><div class=\"sk-estimator fitted sk-toggleable\"><input class=\"sk-toggleable__control sk-hidden--visually\" id=\"sk-estimator-id-1\" type=\"checkbox\" checked><label for=\"sk-estimator-id-1\" class=\"sk-toggleable__label fitted sk-toggleable__label-arrow fitted\">&nbsp;&nbsp;RandomForestClassifier<a class=\"sk-estimator-doc-link fitted\" rel=\"noreferrer\" target=\"_blank\" href=\"https://scikit-learn.org/1.4/modules/generated/sklearn.ensemble.RandomForestClassifier.html\">?<span>Documentation for RandomForestClassifier</span></a><span class=\"sk-estimator-doc-link fitted\">i<span>Fitted</span></span></label><div class=\"sk-toggleable__content fitted\"><pre>RandomForestClassifier(n_estimators=128)</pre></div> </div></div></div></div>"
      ],
      "text/plain": [
       "RandomForestClassifier(n_estimators=128)"
      ]
     },
     "execution_count": 18,
     "metadata": {},
     "output_type": "execute_result"
    }
   ],
   "source": [
    "rf_model = best_model[\"model\"]\n",
    "rf_model"
   ]
  },
  {
   "cell_type": "code",
   "execution_count": 19,
   "metadata": {
    "execution": {
     "iopub.execute_input": "2024-02-15T08:05:44.770899Z",
     "iopub.status.busy": "2024-02-15T08:05:44.768899Z",
     "iopub.status.idle": "2024-02-15T08:05:45.092504Z",
     "shell.execute_reply": "2024-02-15T08:05:45.090506Z",
     "shell.execute_reply.started": "2024-02-15T08:05:44.770899Z"
    }
   },
   "outputs": [],
   "source": [
    "y_train_pred = rf_model.predict(x_train)\n",
    "y_test_pred = rf_model.predict(x_test)"
   ]
  },
  {
   "cell_type": "code",
   "execution_count": 20,
   "metadata": {
    "execution": {
     "iopub.execute_input": "2024-02-15T08:05:45.098040Z",
     "iopub.status.busy": "2024-02-15T08:05:45.094498Z",
     "iopub.status.idle": "2024-02-15T08:05:45.125149Z",
     "shell.execute_reply": "2024-02-15T08:05:45.121149Z",
     "shell.execute_reply.started": "2024-02-15T08:05:45.098040Z"
    }
   },
   "outputs": [],
   "source": [
    "from sklearn.metrics import accuracy_score, precision_score, recall_score, f1_score\n",
    "\n",
    "def classification_metrics(y_true, y_pred) -> dict:\n",
    "    \"\"\"\n",
    "    Calculates the classification metrics accuracy, precision, recall, and F1 score.\n",
    "    \"\"\"\n",
    "    accuracy =  accuracy_score(y_true, y_pred)\n",
    "    precision =  precision_score(y_true, y_pred)    \n",
    "    recall =  recall_score(y_true, y_pred)\n",
    "    f1 = f1_score(y_true, y_pred)\n",
    "    \n",
    "    classification_dict = {\n",
    "        \"Accuracy\": round(accuracy, 3),\n",
    "        \"Precision\": round(precision, 3),\n",
    "        \"Recall\": round(recall, 3),\n",
    "        \"F1 Score\": round(f1, 3)\n",
    "    }\n",
    "    return classification_dict"
   ]
  },
  {
   "cell_type": "code",
   "execution_count": 21,
   "metadata": {
    "execution": {
     "iopub.execute_input": "2024-02-15T08:05:45.134701Z",
     "iopub.status.busy": "2024-02-15T08:05:45.130718Z",
     "iopub.status.idle": "2024-02-15T08:05:45.188589Z",
     "shell.execute_reply": "2024-02-15T08:05:45.184026Z",
     "shell.execute_reply.started": "2024-02-15T08:05:45.134701Z"
    }
   },
   "outputs": [
    {
     "data": {
      "text/plain": [
       "{'Accuracy': 0.986, 'Precision': 0.988, 'Recall': 0.994, 'F1 Score': 0.991}"
      ]
     },
     "execution_count": 21,
     "metadata": {},
     "output_type": "execute_result"
    }
   ],
   "source": [
    "test_eval_metrics = classification_metrics(y_test, y_test_pred)\n",
    "test_eval_metrics"
   ]
  },
  {
   "cell_type": "code",
   "execution_count": 22,
   "metadata": {
    "execution": {
     "iopub.execute_input": "2024-02-15T08:05:45.193596Z",
     "iopub.status.busy": "2024-02-15T08:05:45.191586Z",
     "iopub.status.idle": "2024-02-15T08:05:45.379792Z",
     "shell.execute_reply": "2024-02-15T08:05:45.372252Z",
     "shell.execute_reply.started": "2024-02-15T08:05:45.193596Z"
    }
   },
   "outputs": [
    {
     "data": {
      "text/plain": [
       "{'Accuracy': 1.0, 'Precision': 1.0, 'Recall': 1.0, 'F1 Score': 1.0}"
      ]
     },
     "execution_count": 22,
     "metadata": {},
     "output_type": "execute_result"
    }
   ],
   "source": [
    "train_eval_metrics = classification_metrics(y_train, y_train_pred)\n",
    "train_eval_metrics"
   ]
  },
  {
   "cell_type": "code",
   "execution_count": 24,
   "metadata": {
    "execution": {
     "iopub.execute_input": "2024-02-15T08:07:49.559965Z",
     "iopub.status.busy": "2024-02-15T08:07:49.556947Z",
     "iopub.status.idle": "2024-02-15T08:07:49.580488Z",
     "shell.execute_reply": "2024-02-15T08:07:49.578562Z",
     "shell.execute_reply.started": "2024-02-15T08:07:49.559965Z"
    }
   },
   "outputs": [],
   "source": [
    "from sklearn.metrics import confusion_matrix, ConfusionMatrixDisplay\n",
    "from sklearn.metrics import classification_report"
   ]
  },
  {
   "cell_type": "code",
   "execution_count": 45,
   "metadata": {
    "execution": {
     "iopub.execute_input": "2024-02-15T08:11:26.801420Z",
     "iopub.status.busy": "2024-02-15T08:11:26.800459Z",
     "iopub.status.idle": "2024-02-15T08:11:26.829888Z",
     "shell.execute_reply": "2024-02-15T08:11:26.825344Z",
     "shell.execute_reply.started": "2024-02-15T08:11:26.801420Z"
    }
   },
   "outputs": [
    {
     "data": {
      "text/plain": [
       "array([0., 1.])"
      ]
     },
     "execution_count": 45,
     "metadata": {},
     "output_type": "execute_result"
    }
   ],
   "source": [
    "classes = rf_model.classes_\n",
    "classes"
   ]
  },
  {
   "cell_type": "code",
   "execution_count": 79,
   "metadata": {
    "execution": {
     "iopub.execute_input": "2024-02-15T08:54:02.312712Z",
     "iopub.status.busy": "2024-02-15T08:54:02.310703Z",
     "iopub.status.idle": "2024-02-15T08:54:02.329725Z",
     "shell.execute_reply": "2024-02-15T08:54:02.326797Z",
     "shell.execute_reply.started": "2024-02-15T08:54:02.312712Z"
    }
   },
   "outputs": [],
   "source": [
    "def detailed_classification_metrics(y_true, y_pred, classes: list):\n",
    "    cr_dict = classification_report(y_true, y_pred, output_dict=True)\n",
    "    cr_df = pd.DataFrame(cr_dict).transpose()\n",
    "    cr_classes = cr_df.iloc[:len(classes)].reset_index().rename(columns={\"index\": \"class\"})\n",
    "    avgs_df = cr_df.iloc[len(classes)+1:]\n",
    "    accuracy = round(cr_dict[\"accuracy\"], 3)\n",
    "    return cr_classes, avgs_df, accuracy"
   ]
  },
  {
   "cell_type": "code",
   "execution_count": 115,
   "metadata": {
    "execution": {
     "iopub.execute_input": "2024-02-15T09:12:23.492393Z",
     "iopub.status.busy": "2024-02-15T09:12:23.491393Z",
     "iopub.status.idle": "2024-02-15T09:12:23.544393Z",
     "shell.execute_reply": "2024-02-15T09:12:23.542395Z",
     "shell.execute_reply.started": "2024-02-15T09:12:23.492393Z"
    }
   },
   "outputs": [],
   "source": [
    "cr_classes, avgs_df, acc = detailed_classification_metrics(y_test, y_test_pred, classes)\n"
   ]
  },
  {
   "cell_type": "code",
   "execution_count": 116,
   "metadata": {
    "execution": {
     "iopub.execute_input": "2024-02-15T09:12:29.076348Z",
     "iopub.status.busy": "2024-02-15T09:12:29.075343Z",
     "iopub.status.idle": "2024-02-15T09:12:29.111344Z",
     "shell.execute_reply": "2024-02-15T09:12:29.109350Z",
     "shell.execute_reply.started": "2024-02-15T09:12:29.076348Z"
    }
   },
   "outputs": [
    {
     "data": {
      "text/html": [
       "<div>\n",
       "<style scoped>\n",
       "    .dataframe tbody tr th:only-of-type {\n",
       "        vertical-align: middle;\n",
       "    }\n",
       "\n",
       "    .dataframe tbody tr th {\n",
       "        vertical-align: top;\n",
       "    }\n",
       "\n",
       "    .dataframe thead th {\n",
       "        text-align: right;\n",
       "    }\n",
       "</style>\n",
       "<table border=\"1\" class=\"dataframe\">\n",
       "  <thead>\n",
       "    <tr style=\"text-align: right;\">\n",
       "      <th></th>\n",
       "      <th>class</th>\n",
       "      <th>precision</th>\n",
       "      <th>recall</th>\n",
       "      <th>f1-score</th>\n",
       "      <th>support</th>\n",
       "    </tr>\n",
       "  </thead>\n",
       "  <tbody>\n",
       "    <tr>\n",
       "      <th>0</th>\n",
       "      <td>0.0</td>\n",
       "      <td>0.975</td>\n",
       "      <td>0.952</td>\n",
       "      <td>0.963</td>\n",
       "      <td>372.0</td>\n",
       "    </tr>\n",
       "    <tr>\n",
       "      <th>1</th>\n",
       "      <td>1.0</td>\n",
       "      <td>0.988</td>\n",
       "      <td>0.994</td>\n",
       "      <td>0.991</td>\n",
       "      <td>1544.0</td>\n",
       "    </tr>\n",
       "  </tbody>\n",
       "</table>\n",
       "</div>"
      ],
      "text/plain": [
       "  class  precision  recall  f1-score  support\n",
       "0   0.0      0.975   0.952     0.963    372.0\n",
       "1   1.0      0.988   0.994     0.991   1544.0"
      ]
     },
     "execution_count": 116,
     "metadata": {},
     "output_type": "execute_result"
    }
   ],
   "source": [
    "cr_classes"
   ]
  },
  {
   "cell_type": "code",
   "execution_count": 117,
   "metadata": {
    "execution": {
     "iopub.execute_input": "2024-02-15T09:12:35.288923Z",
     "iopub.status.busy": "2024-02-15T09:12:35.287915Z",
     "iopub.status.idle": "2024-02-15T09:12:35.315919Z",
     "shell.execute_reply": "2024-02-15T09:12:35.313009Z",
     "shell.execute_reply.started": "2024-02-15T09:12:35.288923Z"
    }
   },
   "outputs": [
    {
     "data": {
      "text/html": [
       "<div>\n",
       "<style scoped>\n",
       "    .dataframe tbody tr th:only-of-type {\n",
       "        vertical-align: middle;\n",
       "    }\n",
       "\n",
       "    .dataframe tbody tr th {\n",
       "        vertical-align: top;\n",
       "    }\n",
       "\n",
       "    .dataframe thead th {\n",
       "        text-align: right;\n",
       "    }\n",
       "</style>\n",
       "<table border=\"1\" class=\"dataframe\">\n",
       "  <thead>\n",
       "    <tr style=\"text-align: right;\">\n",
       "      <th></th>\n",
       "      <th>precision</th>\n",
       "      <th>recall</th>\n",
       "      <th>f1-score</th>\n",
       "      <th>support</th>\n",
       "    </tr>\n",
       "  </thead>\n",
       "  <tbody>\n",
       "    <tr>\n",
       "      <th>macro avg</th>\n",
       "      <td>0.982</td>\n",
       "      <td>0.973</td>\n",
       "      <td>0.977</td>\n",
       "      <td>1916.0</td>\n",
       "    </tr>\n",
       "    <tr>\n",
       "      <th>weighted avg</th>\n",
       "      <td>0.986</td>\n",
       "      <td>0.986</td>\n",
       "      <td>0.986</td>\n",
       "      <td>1916.0</td>\n",
       "    </tr>\n",
       "  </tbody>\n",
       "</table>\n",
       "</div>"
      ],
      "text/plain": [
       "              precision  recall  f1-score  support\n",
       "macro avg         0.982   0.973     0.977   1916.0\n",
       "weighted avg      0.986   0.986     0.986   1916.0"
      ]
     },
     "execution_count": 117,
     "metadata": {},
     "output_type": "execute_result"
    }
   ],
   "source": [
    "avgs_df"
   ]
  },
  {
   "cell_type": "code",
   "execution_count": 118,
   "metadata": {
    "execution": {
     "iopub.execute_input": "2024-02-15T09:12:41.246454Z",
     "iopub.status.busy": "2024-02-15T09:12:41.246454Z",
     "iopub.status.idle": "2024-02-15T09:12:41.270418Z",
     "shell.execute_reply": "2024-02-15T09:12:41.268422Z",
     "shell.execute_reply.started": "2024-02-15T09:12:41.246454Z"
    }
   },
   "outputs": [
    {
     "data": {
      "text/plain": [
       "0.986"
      ]
     },
     "execution_count": 118,
     "metadata": {},
     "output_type": "execute_result"
    }
   ],
   "source": [
    "acc"
   ]
  },
  {
   "cell_type": "code",
   "execution_count": 113,
   "metadata": {
    "execution": {
     "iopub.execute_input": "2024-02-15T09:11:00.697361Z",
     "iopub.status.busy": "2024-02-15T09:11:00.696357Z",
     "iopub.status.idle": "2024-02-15T09:11:00.720345Z",
     "shell.execute_reply": "2024-02-15T09:11:00.718345Z",
     "shell.execute_reply.started": "2024-02-15T09:11:00.697361Z"
    }
   },
   "outputs": [],
   "source": [
    "def detailed_confusion_matrix(y_true, y_pred, classes: list, normalize:bool=False):\n",
    "    cm = confusion_matrix(y_test, y_test_pred)\n",
    "    \n",
    "    cm_data = []\n",
    "\n",
    "    # Iterate over classes and confusion matrix \n",
    "    for idx, class_name in enumerate(classes):\n",
    "        TP = cm[idx][idx]\n",
    "        FP = sum(cm[row][idx] for row in range(len(cm)) if row != idx)\n",
    "        FN = sum(cm[idx][col] for col in range(len(cm)) if col != idx)\n",
    "        TN = sum(sum(row) for j, row in enumerate(cm) if j != idx) - FP\n",
    "        cm_dict = {\n",
    "            \"class\": class_name,\n",
    "            \"TP\": TP if normalize==False else TP/(TP+FN),\n",
    "            \"FP\": FP if normalize==False else FP/(TN+FP),\n",
    "            \"FN\": FN if normalize==False else FN/(TP+FN),\n",
    "            \"TN\": TN if normalize==False else TN/(TN+FP)\n",
    "        }\n",
    "        cm_data.append(cm_dict)\n",
    "    # Construct dataframe\n",
    "    cm_df = pd.DataFrame(cm_data)\n",
    "    return cm_df"
   ]
  },
  {
   "cell_type": "code",
   "execution_count": 120,
   "metadata": {
    "execution": {
     "iopub.execute_input": "2024-02-15T09:13:28.170847Z",
     "iopub.status.busy": "2024-02-15T09:13:28.169852Z",
     "iopub.status.idle": "2024-02-15T09:13:28.209849Z",
     "shell.execute_reply": "2024-02-15T09:13:28.207850Z",
     "shell.execute_reply.started": "2024-02-15T09:13:28.170847Z"
    }
   },
   "outputs": [
    {
     "data": {
      "text/html": [
       "<div>\n",
       "<style scoped>\n",
       "    .dataframe tbody tr th:only-of-type {\n",
       "        vertical-align: middle;\n",
       "    }\n",
       "\n",
       "    .dataframe tbody tr th {\n",
       "        vertical-align: top;\n",
       "    }\n",
       "\n",
       "    .dataframe thead th {\n",
       "        text-align: right;\n",
       "    }\n",
       "</style>\n",
       "<table border=\"1\" class=\"dataframe\">\n",
       "  <thead>\n",
       "    <tr style=\"text-align: right;\">\n",
       "      <th></th>\n",
       "      <th>class</th>\n",
       "      <th>TP</th>\n",
       "      <th>FP</th>\n",
       "      <th>FN</th>\n",
       "      <th>TN</th>\n",
       "    </tr>\n",
       "  </thead>\n",
       "  <tbody>\n",
       "    <tr>\n",
       "      <th>0</th>\n",
       "      <td>0.0</td>\n",
       "      <td>354</td>\n",
       "      <td>9</td>\n",
       "      <td>18</td>\n",
       "      <td>1535</td>\n",
       "    </tr>\n",
       "    <tr>\n",
       "      <th>1</th>\n",
       "      <td>1.0</td>\n",
       "      <td>1535</td>\n",
       "      <td>18</td>\n",
       "      <td>9</td>\n",
       "      <td>354</td>\n",
       "    </tr>\n",
       "  </tbody>\n",
       "</table>\n",
       "</div>"
      ],
      "text/plain": [
       "   class    TP  FP  FN    TN\n",
       "0    0.0   354   9  18  1535\n",
       "1    1.0  1535  18   9   354"
      ]
     },
     "execution_count": 120,
     "metadata": {},
     "output_type": "execute_result"
    }
   ],
   "source": [
    "cm_df = detailed_confusion_matrix(y_test, y_test_pred, classes, normalize=False)\n",
    "cm_df"
   ]
  },
  {
   "cell_type": "code",
   "execution_count": 121,
   "metadata": {
    "execution": {
     "iopub.execute_input": "2024-02-15T09:13:50.934204Z",
     "iopub.status.busy": "2024-02-15T09:13:50.933193Z",
     "iopub.status.idle": "2024-02-15T09:13:50.968197Z",
     "shell.execute_reply": "2024-02-15T09:13:50.966185Z",
     "shell.execute_reply.started": "2024-02-15T09:13:50.934204Z"
    }
   },
   "outputs": [
    {
     "data": {
      "text/html": [
       "<div>\n",
       "<style scoped>\n",
       "    .dataframe tbody tr th:only-of-type {\n",
       "        vertical-align: middle;\n",
       "    }\n",
       "\n",
       "    .dataframe tbody tr th {\n",
       "        vertical-align: top;\n",
       "    }\n",
       "\n",
       "    .dataframe thead th {\n",
       "        text-align: right;\n",
       "    }\n",
       "</style>\n",
       "<table border=\"1\" class=\"dataframe\">\n",
       "  <thead>\n",
       "    <tr style=\"text-align: right;\">\n",
       "      <th></th>\n",
       "      <th>class</th>\n",
       "      <th>TP</th>\n",
       "      <th>FP</th>\n",
       "      <th>FN</th>\n",
       "      <th>TN</th>\n",
       "    </tr>\n",
       "  </thead>\n",
       "  <tbody>\n",
       "    <tr>\n",
       "      <th>0</th>\n",
       "      <td>0.0</td>\n",
       "      <td>0.952</td>\n",
       "      <td>0.006</td>\n",
       "      <td>0.048</td>\n",
       "      <td>0.994</td>\n",
       "    </tr>\n",
       "    <tr>\n",
       "      <th>1</th>\n",
       "      <td>1.0</td>\n",
       "      <td>0.994</td>\n",
       "      <td>0.048</td>\n",
       "      <td>0.006</td>\n",
       "      <td>0.952</td>\n",
       "    </tr>\n",
       "  </tbody>\n",
       "</table>\n",
       "</div>"
      ],
      "text/plain": [
       "   class     TP     FP     FN     TN\n",
       "0    0.0  0.952  0.006  0.048  0.994\n",
       "1    1.0  0.994  0.048  0.006  0.952"
      ]
     },
     "execution_count": 121,
     "metadata": {},
     "output_type": "execute_result"
    }
   ],
   "source": [
    "cm_df_pct = detailed_confusion_matrix(y_test, y_test_pred, classes, normalize=True)\n",
    "cm_df_pct"
   ]
  },
  {
   "cell_type": "code",
   "execution_count": 152,
   "metadata": {
    "execution": {
     "iopub.execute_input": "2024-02-15T09:43:53.332762Z",
     "iopub.status.busy": "2024-02-15T09:43:53.331760Z",
     "iopub.status.idle": "2024-02-15T09:43:53.358761Z",
     "shell.execute_reply": "2024-02-15T09:43:53.355744Z",
     "shell.execute_reply.started": "2024-02-15T09:43:53.331760Z"
    }
   },
   "outputs": [],
   "source": [
    "## join dataframes\n",
    "\n",
    "def get_classificaion_report_df(y_true, y_pred, classes: list):\n",
    "    cr_df, _, _ = detailed_classification_metrics(y_true, y_pred, classes)\n",
    "    cm_df = detailed_confusion_matrix(y_true, y_pred, classes, normalize=False)\n",
    "    cm_df_norm = detailed_confusion_matrix(y_true, y_pred, classes, normalize=True)\n",
    "\n",
    "    # Add \"_norm\" to cm_df_norm columns (except the \"class\" column)\n",
    "    cm_df_norm.columns = [\"class\"] + [x+\"_norm\" for x in cm_df_norm.columns if x != \"class\"]\n",
    "\n",
    "    # Change the \"class\" column to \"str\" type\n",
    "    for df in [cr_df, cm_df, cm_df_norm]:\n",
    "        df[\"class\"] = df[\"class\"].astype(str)\n",
    "    \n",
    "    # Merge dataframes\n",
    "    merged_df = cr_df.merge(cm_df, on=\"class\").merge(cm_df_norm, on=\"class\")\n",
    "    return merged_df"
   ]
  },
  {
   "cell_type": "code",
   "execution_count": 153,
   "metadata": {
    "execution": {
     "iopub.execute_input": "2024-02-15T09:43:59.362582Z",
     "iopub.status.busy": "2024-02-15T09:43:59.361599Z",
     "iopub.status.idle": "2024-02-15T09:43:59.448592Z",
     "shell.execute_reply": "2024-02-15T09:43:59.446656Z",
     "shell.execute_reply.started": "2024-02-15T09:43:59.362582Z"
    }
   },
   "outputs": [
    {
     "data": {
      "text/html": [
       "<div>\n",
       "<style scoped>\n",
       "    .dataframe tbody tr th:only-of-type {\n",
       "        vertical-align: middle;\n",
       "    }\n",
       "\n",
       "    .dataframe tbody tr th {\n",
       "        vertical-align: top;\n",
       "    }\n",
       "\n",
       "    .dataframe thead th {\n",
       "        text-align: right;\n",
       "    }\n",
       "</style>\n",
       "<table border=\"1\" class=\"dataframe\">\n",
       "  <thead>\n",
       "    <tr style=\"text-align: right;\">\n",
       "      <th></th>\n",
       "      <th>class</th>\n",
       "      <th>precision</th>\n",
       "      <th>recall</th>\n",
       "      <th>f1-score</th>\n",
       "      <th>support</th>\n",
       "      <th>TP</th>\n",
       "      <th>FP</th>\n",
       "      <th>FN</th>\n",
       "      <th>TN</th>\n",
       "      <th>TP_norm</th>\n",
       "      <th>FP_norm</th>\n",
       "      <th>FN_norm</th>\n",
       "      <th>TN_norm</th>\n",
       "    </tr>\n",
       "  </thead>\n",
       "  <tbody>\n",
       "    <tr>\n",
       "      <th>0</th>\n",
       "      <td>0.0</td>\n",
       "      <td>0.975</td>\n",
       "      <td>0.952</td>\n",
       "      <td>0.963</td>\n",
       "      <td>372.0</td>\n",
       "      <td>354</td>\n",
       "      <td>9</td>\n",
       "      <td>18</td>\n",
       "      <td>1535</td>\n",
       "      <td>0.952</td>\n",
       "      <td>0.006</td>\n",
       "      <td>0.048</td>\n",
       "      <td>0.994</td>\n",
       "    </tr>\n",
       "    <tr>\n",
       "      <th>1</th>\n",
       "      <td>1.0</td>\n",
       "      <td>0.988</td>\n",
       "      <td>0.994</td>\n",
       "      <td>0.991</td>\n",
       "      <td>1544.0</td>\n",
       "      <td>1535</td>\n",
       "      <td>18</td>\n",
       "      <td>9</td>\n",
       "      <td>354</td>\n",
       "      <td>0.994</td>\n",
       "      <td>0.048</td>\n",
       "      <td>0.006</td>\n",
       "      <td>0.952</td>\n",
       "    </tr>\n",
       "  </tbody>\n",
       "</table>\n",
       "</div>"
      ],
      "text/plain": [
       "  class  precision  recall  f1-score  support    TP  FP  FN    TN  TP_norm  \\\n",
       "0   0.0      0.975   0.952     0.963    372.0   354   9  18  1535    0.952   \n",
       "1   1.0      0.988   0.994     0.991   1544.0  1535  18   9   354    0.994   \n",
       "\n",
       "   FP_norm  FN_norm  TN_norm  \n",
       "0    0.006    0.048    0.994  \n",
       "1    0.048    0.006    0.952  "
      ]
     },
     "execution_count": 153,
     "metadata": {},
     "output_type": "execute_result"
    }
   ],
   "source": [
    "tot_df = get_classificaion_report_df(y_test, y_test_pred, classes)\n",
    "tot_df"
   ]
  },
  {
   "cell_type": "code",
   "execution_count": 165,
   "metadata": {
    "execution": {
     "iopub.execute_input": "2024-02-15T10:20:59.485384Z",
     "iopub.status.busy": "2024-02-15T10:20:59.483395Z",
     "iopub.status.idle": "2024-02-15T10:20:59.511390Z",
     "shell.execute_reply": "2024-02-15T10:20:59.509471Z",
     "shell.execute_reply.started": "2024-02-15T10:20:59.485384Z"
    }
   },
   "outputs": [],
   "source": [
    "def get_classification_report_dict(y_true, y_pred, classes: list):\n",
    "    metrics = classification_metrics(y_true, y_pred)\n",
    "    cr_df, avgs_df, _ = detailed_classification_metrics(y_true, y_pred, classes)\n",
    "    cm_df = detailed_confusion_matrix(y_true, y_pred, classes, normalize=False)\n",
    "    cm_df_norm = detailed_confusion_matrix(y_true, y_pred, classes, normalize=True)\n",
    "\n",
    "    cm_dict = cm_df.set_index(\"class\").transpose().to_dict()\n",
    "    cm_norm_dict = cm_df_pct.set_index(\"class\").transpose().to_dict()\n",
    "    cr_dict = cr_classes.set_index(\"class\").transpose().to_dict()\n",
    "    avgs_dict = avgs_df.transpose().to_dict()\n",
    "\n",
    "    return {\n",
    "        \"averages\": avgs_dict,\n",
    "        \"classification_report\": cr_dict,\n",
    "        \"confusion_matrix\": cm_dict,\n",
    "        \"confusion_matrix_normalized\": cm_norm_dict\n",
    "    }\n",
    "\n",
    "    "
   ]
  },
  {
   "cell_type": "code",
   "execution_count": 167,
   "metadata": {
    "execution": {
     "iopub.execute_input": "2024-02-15T10:21:40.774654Z",
     "iopub.status.busy": "2024-02-15T10:21:40.773655Z",
     "iopub.status.idle": "2024-02-15T10:21:40.875651Z",
     "shell.execute_reply": "2024-02-15T10:21:40.873642Z",
     "shell.execute_reply.started": "2024-02-15T10:21:40.774654Z"
    }
   },
   "outputs": [
    {
     "data": {
      "text/plain": [
       "{'averages': {'macro avg': {'precision': 0.9818080707561478,\n",
       "   'recall': 0.9728919438408825,\n",
       "   'f1-score': 0.9772735959091419,\n",
       "   'support': 1916.0},\n",
       "  'weighted avg': {'precision': 0.9858461240786294,\n",
       "   'recall': 0.9859081419624217,\n",
       "   'f1-score': 0.9858423410187472,\n",
       "   'support': 1916.0}},\n",
       " 'classification_report': {'0.0': {'precision': 0.9752066115702479,\n",
       "   'recall': 0.9516129032258065,\n",
       "   'f1-score': 0.963265306122449,\n",
       "   'support': 372.0},\n",
       "  '1.0': {'precision': 0.9884095299420477,\n",
       "   'recall': 0.9941709844559585,\n",
       "   'f1-score': 0.9912818856958346,\n",
       "   'support': 1544.0}},\n",
       " 'confusion_matrix': {0.0: {'TP': 354, 'FP': 9, 'FN': 18, 'TN': 1535},\n",
       "  1.0: {'TP': 1535, 'FP': 18, 'FN': 9, 'TN': 354}},\n",
       " 'confusion_matrix_normalized': {'0.0': {'TP': 0.9516129032258065,\n",
       "   'FP': 0.005829015544041451,\n",
       "   'FN': 0.04838709677419355,\n",
       "   'TN': 0.9941709844559585},\n",
       "  '1.0': {'TP': 0.9941709844559585,\n",
       "   'FP': 0.04838709677419355,\n",
       "   'FN': 0.005829015544041451,\n",
       "   'TN': 0.9516129032258065}}}"
      ]
     },
     "execution_count": 167,
     "metadata": {},
     "output_type": "execute_result"
    }
   ],
   "source": [
    "full_dict = get_classification_report_dict(y_test, y_test_pred, classes)\n",
    "full_dict"
   ]
  },
  {
   "cell_type": "code",
   "execution_count": 158,
   "metadata": {
    "execution": {
     "iopub.execute_input": "2024-02-15T10:14:48.929170Z",
     "iopub.status.busy": "2024-02-15T10:14:48.928170Z",
     "iopub.status.idle": "2024-02-15T10:14:48.957182Z",
     "shell.execute_reply": "2024-02-15T10:14:48.955172Z",
     "shell.execute_reply.started": "2024-02-15T10:14:48.929170Z"
    }
   },
   "outputs": [],
   "source": [
    "cm_dict = cm_df.set_index(\"class\").transpose().to_dict()\n",
    "cm_norm_dict = cm_df_pct.set_index(\"class\").transpose().to_dict()"
   ]
  },
  {
   "cell_type": "code",
   "execution_count": 159,
   "metadata": {
    "execution": {
     "iopub.execute_input": "2024-02-15T10:14:50.151663Z",
     "iopub.status.busy": "2024-02-15T10:14:50.148662Z",
     "iopub.status.idle": "2024-02-15T10:14:50.170674Z",
     "shell.execute_reply": "2024-02-15T10:14:50.167693Z",
     "shell.execute_reply.started": "2024-02-15T10:14:50.151663Z"
    }
   },
   "outputs": [
    {
     "data": {
      "text/plain": [
       "{'0.0': {'TP': 0.9516129032258065,\n",
       "  'FP': 0.005829015544041451,\n",
       "  'FN': 0.04838709677419355,\n",
       "  'TN': 0.9941709844559585},\n",
       " '1.0': {'TP': 0.9941709844559585,\n",
       "  'FP': 0.04838709677419355,\n",
       "  'FN': 0.005829015544041451,\n",
       "  'TN': 0.9516129032258065}}"
      ]
     },
     "execution_count": 159,
     "metadata": {},
     "output_type": "execute_result"
    }
   ],
   "source": [
    "cm_norm_dict"
   ]
  },
  {
   "cell_type": "code",
   "execution_count": 162,
   "metadata": {
    "execution": {
     "iopub.execute_input": "2024-02-15T10:16:01.319316Z",
     "iopub.status.busy": "2024-02-15T10:16:01.318362Z",
     "iopub.status.idle": "2024-02-15T10:16:01.341310Z",
     "shell.execute_reply": "2024-02-15T10:16:01.339406Z",
     "shell.execute_reply.started": "2024-02-15T10:16:01.319316Z"
    }
   },
   "outputs": [
    {
     "data": {
      "text/plain": [
       "{'0.0': {'precision': 0.9752066115702479,\n",
       "  'recall': 0.9516129032258065,\n",
       "  'f1-score': 0.963265306122449,\n",
       "  'support': 372.0},\n",
       " '1.0': {'precision': 0.9884095299420477,\n",
       "  'recall': 0.9941709844559585,\n",
       "  'f1-score': 0.9912818856958346,\n",
       "  'support': 1544.0}}"
      ]
     },
     "execution_count": 162,
     "metadata": {},
     "output_type": "execute_result"
    }
   ],
   "source": [
    "cr_dict = cr_classes.set_index(\"class\").transpose().to_dict()\n",
    "cr_dict"
   ]
  },
  {
   "cell_type": "code",
   "execution_count": 164,
   "metadata": {
    "execution": {
     "iopub.execute_input": "2024-02-15T10:16:18.879602Z",
     "iopub.status.busy": "2024-02-15T10:16:18.877599Z",
     "iopub.status.idle": "2024-02-15T10:16:18.910592Z",
     "shell.execute_reply": "2024-02-15T10:16:18.907677Z",
     "shell.execute_reply.started": "2024-02-15T10:16:18.879602Z"
    }
   },
   "outputs": [
    {
     "data": {
      "text/plain": [
       "{'macro avg': {'precision': 0.9818080707561478,\n",
       "  'recall': 0.9728919438408825,\n",
       "  'f1-score': 0.9772735959091419,\n",
       "  'support': 1916.0},\n",
       " 'weighted avg': {'precision': 0.9858461240786294,\n",
       "  'recall': 0.9859081419624217,\n",
       "  'f1-score': 0.9858423410187472,\n",
       "  'support': 1916.0}}"
      ]
     },
     "execution_count": 164,
     "metadata": {},
     "output_type": "execute_result"
    }
   ],
   "source": [
    "avgs_df.transpose().to_dict()"
   ]
  },
  {
   "cell_type": "code",
   "execution_count": null,
   "metadata": {},
   "outputs": [],
   "source": []
  },
  {
   "cell_type": "code",
   "execution_count": null,
   "metadata": {},
   "outputs": [],
   "source": []
  },
  {
   "cell_type": "code",
   "execution_count": null,
   "metadata": {},
   "outputs": [],
   "source": []
  },
  {
   "cell_type": "code",
   "execution_count": 154,
   "metadata": {
    "execution": {
     "iopub.execute_input": "2024-02-15T09:44:33.502958Z",
     "iopub.status.busy": "2024-02-15T09:44:33.501946Z",
     "iopub.status.idle": "2024-02-15T09:44:33.538985Z",
     "shell.execute_reply": "2024-02-15T09:44:33.536130Z",
     "shell.execute_reply.started": "2024-02-15T09:44:33.502958Z"
    }
   },
   "outputs": [
    {
     "data": {
      "text/plain": [
       "{'0.0': {'precision': 0.9752066115702479,\n",
       "  'recall': 0.9516129032258065,\n",
       "  'f1-score': 0.963265306122449,\n",
       "  'support': 372.0,\n",
       "  'TP': 354.0,\n",
       "  'FP': 9.0,\n",
       "  'FN': 18.0,\n",
       "  'TN': 1535.0,\n",
       "  'TP_norm': 0.9516129032258065,\n",
       "  'FP_norm': 0.005829015544041451,\n",
       "  'FN_norm': 0.04838709677419355,\n",
       "  'TN_norm': 0.9941709844559585},\n",
       " '1.0': {'precision': 0.9884095299420477,\n",
       "  'recall': 0.9941709844559585,\n",
       "  'f1-score': 0.9912818856958346,\n",
       "  'support': 1544.0,\n",
       "  'TP': 1535.0,\n",
       "  'FP': 18.0,\n",
       "  'FN': 9.0,\n",
       "  'TN': 354.0,\n",
       "  'TP_norm': 0.9941709844559585,\n",
       "  'FP_norm': 0.04838709677419355,\n",
       "  'FN_norm': 0.005829015544041451,\n",
       "  'TN_norm': 0.9516129032258065}}"
      ]
     },
     "execution_count": 154,
     "metadata": {},
     "output_type": "execute_result"
    }
   ],
   "source": [
    "class_level_results = tot_df.set_index(\"class\").transpose().to_dict()\n",
    "class_level_results"
   ]
  },
  {
   "cell_type": "code",
   "execution_count": 141,
   "metadata": {
    "execution": {
     "iopub.execute_input": "2024-02-15T09:31:37.355893Z",
     "iopub.status.busy": "2024-02-15T09:31:37.354972Z",
     "iopub.status.idle": "2024-02-15T09:31:37.381885Z",
     "shell.execute_reply": "2024-02-15T09:31:37.379970Z",
     "shell.execute_reply.started": "2024-02-15T09:31:37.355893Z"
    }
   },
   "outputs": [
    {
     "data": {
      "text/plain": [
       "{'macro avg': {'precision': 0.9818080707561478,\n",
       "  'recall': 0.9728919438408825,\n",
       "  'f1-score': 0.9772735959091419,\n",
       "  'support': 1916.0},\n",
       " 'weighted avg': {'precision': 0.9858461240786294,\n",
       "  'recall': 0.9859081419624217,\n",
       "  'f1-score': 0.9858423410187472,\n",
       "  'support': 1916.0}}"
      ]
     },
     "execution_count": 141,
     "metadata": {},
     "output_type": "execute_result"
    }
   ],
   "source": [
    "avgs_dict = avgs_df.transpose().to_dict()\n",
    "avgs_dict"
   ]
  },
  {
   "cell_type": "code",
   "execution_count": null,
   "metadata": {},
   "outputs": [],
   "source": []
  },
  {
   "cell_type": "code",
   "execution_count": 62,
   "metadata": {
    "execution": {
     "iopub.execute_input": "2024-02-15T08:35:54.912440Z",
     "iopub.status.busy": "2024-02-15T08:35:54.911441Z",
     "iopub.status.idle": "2024-02-15T08:35:54.942033Z",
     "shell.execute_reply": "2024-02-15T08:35:54.937416Z",
     "shell.execute_reply.started": "2024-02-15T08:35:54.912440Z"
    }
   },
   "outputs": [
    {
     "data": {
      "text/plain": [
       "[{'class': 0.0, 'TP': 354, 'FP': 9, 'FN': 18, 'TN': 1535},\n",
       " {'class': 1.0, 'TP': 1535, 'FP': 18, 'FN': 9, 'TN': 354}]"
      ]
     },
     "execution_count": 62,
     "metadata": {},
     "output_type": "execute_result"
    }
   ],
   "source": [
    "cm_data = []\n",
    "for i, class_name in enumerate(classes):\n",
    "    TP = cm[i][i]\n",
    "    FP = sum(cm[r][i] for r in range(len(cm)) if r != i)\n",
    "    FN = sum(cm[i][c] for c in range(len(cm)) if c != i)\n",
    "    TN = sum(sum(row) for j, row in enumerate(cm) if j != i) - FP\n",
    "    cm_dict = {\n",
    "        \"class\": class_name,\n",
    "        \"TP\": TP,\n",
    "        \"FP\": FP,\n",
    "        \"FN\": FN,\n",
    "        \"TN\": TN\n",
    "    }\n",
    "    cm_data.append(cm_dict)\n",
    "\n",
    "# View confusion matrix\n",
    "cm_data"
   ]
  },
  {
   "cell_type": "code",
   "execution_count": 63,
   "metadata": {
    "execution": {
     "iopub.execute_input": "2024-02-15T08:36:15.074400Z",
     "iopub.status.busy": "2024-02-15T08:36:15.073381Z",
     "iopub.status.idle": "2024-02-15T08:36:15.102548Z",
     "shell.execute_reply": "2024-02-15T08:36:15.099546Z",
     "shell.execute_reply.started": "2024-02-15T08:36:15.074400Z"
    }
   },
   "outputs": [
    {
     "data": {
      "text/html": [
       "<div>\n",
       "<style scoped>\n",
       "    .dataframe tbody tr th:only-of-type {\n",
       "        vertical-align: middle;\n",
       "    }\n",
       "\n",
       "    .dataframe tbody tr th {\n",
       "        vertical-align: top;\n",
       "    }\n",
       "\n",
       "    .dataframe thead th {\n",
       "        text-align: right;\n",
       "    }\n",
       "</style>\n",
       "<table border=\"1\" class=\"dataframe\">\n",
       "  <thead>\n",
       "    <tr style=\"text-align: right;\">\n",
       "      <th></th>\n",
       "      <th>class</th>\n",
       "      <th>TP</th>\n",
       "      <th>FP</th>\n",
       "      <th>FN</th>\n",
       "      <th>TN</th>\n",
       "    </tr>\n",
       "  </thead>\n",
       "  <tbody>\n",
       "    <tr>\n",
       "      <th>0</th>\n",
       "      <td>0.0</td>\n",
       "      <td>354</td>\n",
       "      <td>9</td>\n",
       "      <td>18</td>\n",
       "      <td>1535</td>\n",
       "    </tr>\n",
       "    <tr>\n",
       "      <th>1</th>\n",
       "      <td>1.0</td>\n",
       "      <td>1535</td>\n",
       "      <td>18</td>\n",
       "      <td>9</td>\n",
       "      <td>354</td>\n",
       "    </tr>\n",
       "  </tbody>\n",
       "</table>\n",
       "</div>"
      ],
      "text/plain": [
       "   class    TP  FP  FN    TN\n",
       "0    0.0   354   9  18  1535\n",
       "1    1.0  1535  18   9   354"
      ]
     },
     "execution_count": 63,
     "metadata": {},
     "output_type": "execute_result"
    }
   ],
   "source": [
    "cm_df = pd.DataFrame(cm_data)\n",
    "cm_df"
   ]
  },
  {
   "cell_type": "code",
   "execution_count": null,
   "metadata": {},
   "outputs": [],
   "source": [
    "def detailed_confusion_matrix(y_true, y_pred, classes: list):\n",
    "    cm_data = []\n",
    "\n",
    "    # Iterate over classes and confusion matrix \n",
    "    for idx, class_name in enumerate(classes):\n",
    "        TP = cm[idx][idx]\n",
    "        FP = sum(cm[r][idx] for row in range(len(cm)) if row != idx)\n",
    "        FN = sum(cm[idx][c] for col in range(len(cm)) if col != idx)\n",
    "        TN = sum(sum(row) for j, row in enumerate(cm) if j != idx) - FP\n",
    "        cm_dict = {\n",
    "            \"class\": class_name,\n",
    "            \"TP\": TP,\n",
    "            \"FP\": FP,\n",
    "            \"FN\": FN,\n",
    "            \"TN\": TN\n",
    "        }\n",
    "        cm_data.append(cm_dict)\n",
    "    # Construct dataframe\n",
    "    cm_df = pd.DataFrame(cm_data)\n",
    "    return cm_df"
   ]
  },
  {
   "cell_type": "code",
   "execution_count": null,
   "metadata": {},
   "outputs": [],
   "source": []
  },
  {
   "cell_type": "code",
   "execution_count": 229,
   "metadata": {
    "execution": {
     "iopub.execute_input": "2024-02-15T11:03:16.722573Z",
     "iopub.status.busy": "2024-02-15T11:03:16.721598Z",
     "iopub.status.idle": "2024-02-15T11:03:16.752579Z",
     "shell.execute_reply": "2024-02-15T11:03:16.750575Z",
     "shell.execute_reply.started": "2024-02-15T11:03:16.722573Z"
    }
   },
   "outputs": [],
   "source": [
    "from sklearn.metrics import confusion_matrix, ConfusionMatrixDisplay\n",
    "import matplotlib.pyplot as plt\n",
    "\n",
    "def plot_confusion_matrix(y_true, y_pred, class_names: list):\n",
    "  \"\"\"\n",
    "  Plots the confusion matrix for evaluating classification model\n",
    "  \"\"\"\n",
    "\n",
    "  # calculate confusion matrix values\n",
    "  cm = confusion_matrix(y_true, y_pred)\n",
    "  cm_pct = confusion_matrix(y_true, y_pred, normalize=\"true\")\n",
    "\n",
    "  # confusion matrix display objects\n",
    "  disp = ConfusionMatrixDisplay(confusion_matrix=cm, \n",
    "                              display_labels=class_names)\n",
    "  disp_pct = ConfusionMatrixDisplay(confusion_matrix=cm_pct,\n",
    "                                  display_labels=class_names)\n",
    "\n",
    "  # create the figure object and axis\n",
    "  fig = plt.figure(figsize=(20, 15))\n",
    "  ax1 = fig.add_subplot(1, 2, 1)\n",
    "  ax2 = fig.add_subplot(1, 2, 2)\n",
    "\n",
    "  # plot confusion matrix on the axis\n",
    "  disp.plot(ax=ax1, cmap=\"Blues\", xticks_rotation='vertical', colorbar=False)\n",
    "  disp_pct.plot(ax=ax2, cmap=\"Blues\", xticks_rotation=\"vertical\", colorbar=False, values_format='.2%')\n",
    "\n",
    "  # plot customization\n",
    "  ax1.set_title(\"Confusion Matrix\", fontdict={'weight':'bold'})\n",
    "  ax2.set_title(\"Confusion Matrix (Percentages)\", fontdict={'weight':'bold'})\n",
    "\n",
    "  # show plot\n",
    "  plt.show()"
   ]
  },
  {
   "cell_type": "code",
   "execution_count": 230,
   "metadata": {
    "execution": {
     "iopub.execute_input": "2024-02-15T11:03:27.062971Z",
     "iopub.status.busy": "2024-02-15T11:03:27.061959Z",
     "iopub.status.idle": "2024-02-15T11:03:27.788970Z",
     "shell.execute_reply": "2024-02-15T11:03:27.786973Z",
     "shell.execute_reply.started": "2024-02-15T11:03:27.062971Z"
    }
   },
   "outputs": [
    {
     "data": {
      "image/png": "[encoded data removed]",
      "text/plain": [
       "<Figure size 2000x1500 with 2 Axes>"
      ]
     },
     "metadata": {},
     "output_type": "display_data"
    }
   ],
   "source": [
    "plot_confusion_matrix(y_test, y_test_pred, class_names=classes)"
   ]
  },
  {
   "cell_type": "code",
   "execution_count": 231,
   "metadata": {
    "execution": {
     "iopub.execute_input": "2024-02-15T11:03:35.702041Z",
     "iopub.status.busy": "2024-02-15T11:03:35.701088Z",
     "iopub.status.idle": "2024-02-15T11:03:37.029148Z",
     "shell.execute_reply": "2024-02-15T11:03:37.011153Z",
     "shell.execute_reply.started": "2024-02-15T11:03:35.702041Z"
    }
   },
   "outputs": [
    {
     "data": {
      "image/png": "[encoded data removed]",
      "text/plain": [
       "<Figure size 2000x1500 with 2 Axes>"
      ]
     },
     "metadata": {},
     "output_type": "display_data"
    }
   ],
   "source": [
    "plot_confusion_matrix(y_train, y_train_pred, class_names=classes)"
   ]
  },
  {
   "cell_type": "code",
   "execution_count": null,
   "metadata": {},
   "outputs": [],
   "source": [
    "from matplotlib.colors import rgb2hex\n",
    "\n",
    "def text_color(cmap_name: str, frac: float) -> str:\n",
    "    cmap = plt.get_cmap(cmap_name)\n",
    "    colors = [rgb2hex(cmap(i)) for i in range(cmap.N)]\n",
    "    target_idx = int(frac * len(colors))\n",
    "    return colors[target_idx]"
   ]
  },
  {
   "cell_type": "code",
   "execution_count": 225,
   "metadata": {
    "execution": {
     "iopub.execute_input": "2024-02-15T11:02:19.998985Z",
     "iopub.status.busy": "2024-02-15T11:02:19.997974Z",
     "iopub.status.idle": "2024-02-15T11:02:20.026974Z",
     "shell.execute_reply": "2024-02-15T11:02:20.025050Z",
     "shell.execute_reply.started": "2024-02-15T11:02:19.998985Z"
    }
   },
   "outputs": [],
   "source": [
    "from matplotlib.colors import rgb2hex\n",
    "from sklearn.metrics import confusion_matrix, ConfusionMatrixDisplay\n",
    "import matplotlib.pyplot as plt\n",
    "\n",
    "def visualize_confusion_matrix(y_true, y_pred, classes: list, fig_size: tuple=(8, 6), color_bar: bool=False, title: str=\"Confusion Matrix\"):\n",
    "    # Calculate confusion matrix values & normalized values\n",
    "    cm = confusion_matrix(y_true, y_pred)\n",
    "    cm_norm = confusion_matrix(y_true, y_pred, normalize=\"true\")\n",
    "\n",
    "    # Calculate the confusion matrix in percentages of total (for text color)\n",
    "    cm_pct = cm / cm.sum()\n",
    "\n",
    "    # Confusion matrix display objects\n",
    "    disp = ConfusionMatrixDisplay(confusion_matrix=cm, \n",
    "                                  display_labels=classes)\n",
    "\n",
    "    # Create the figure object and axis\n",
    "    fig = plt.figure(figsize=fig_size)\n",
    "    ax = fig.add_subplot()\n",
    "\n",
    "    # Plot confusion matrix on the axis\n",
    "    disp.plot(ax=ax, cmap=\"Blues\", colorbar=color_bar)\n",
    "\n",
    "    # Function to dynamically generate text colors\n",
    "    def text_color(cmap_name: str, frac: float) -> str:\n",
    "        cmap = plt.get_cmap(cmap_name)\n",
    "        colors = [rgb2hex(cmap(i)) for i in range(cmap.N)]\n",
    "        target_idx = int(frac * len(colors))\n",
    "        return colors[target_idx]\n",
    "    \n",
    "    # Annotate confusion matrix with percentages\n",
    "    for i in range(cm.shape[0]):\n",
    "        for j in range(cm.shape[1]):\n",
    "            \n",
    "            # Fetch percentage value & appropriate text color\n",
    "            value = cm_norm[i, j]\n",
    "            hex_color = text_color(\"Blues_r\", cm_pct[i, j])\n",
    "\n",
    "            # Add text in the plot\n",
    "            ax.text(j, i+0.1, '{:.2%}'.format(value),\n",
    "                    ha='center', va='center', color=hex_color)\n",
    "\n",
    "    # Plot customization\n",
    "    ax.set_title(title, fontdict={'weight':'bold'})\n",
    "    \n",
    "    # Show plot\n",
    "    plt.show()"
   ]
  },
  {
   "cell_type": "code",
   "execution_count": 226,
   "metadata": {
    "execution": {
     "iopub.execute_input": "2024-02-15T11:02:39.226501Z",
     "iopub.status.busy": "2024-02-15T11:02:39.225432Z",
     "iopub.status.idle": "2024-02-15T11:02:39.614433Z",
     "shell.execute_reply": "2024-02-15T11:02:39.610515Z",
     "shell.execute_reply.started": "2024-02-15T11:02:39.226501Z"
    }
   },
   "outputs": [
    {
     "data": {
      "image/png": "[encoded data removed]",
      "text/plain": [
       "<Figure size 800x600 with 1 Axes>"
      ]
     },
     "metadata": {},
     "output_type": "display_data"
    }
   ],
   "source": [
    "visualize_confusion_matrix(y_test, y_test_pred, classes, title=\"Confusion matrix : Test Data\")"
   ]
  },
  {
   "cell_type": "code",
   "execution_count": 227,
   "metadata": {
    "execution": {
     "iopub.execute_input": "2024-02-15T11:02:49.923727Z",
     "iopub.status.busy": "2024-02-15T11:02:49.922729Z",
     "iopub.status.idle": "2024-02-15T11:02:50.261886Z",
     "shell.execute_reply": "2024-02-15T11:02:50.258892Z",
     "shell.execute_reply.started": "2024-02-15T11:02:49.923727Z"
    }
   },
   "outputs": [
    {
     "data": {
      "image/png": "[encoded data removed]",
      "text/plain": [
       "<Figure size 800x600 with 1 Axes>"
      ]
     },
     "metadata": {},
     "output_type": "display_data"
    }
   ],
   "source": [
    "visualize_confusion_matrix(y_test, y_test_pred, classes, title=\"Confusion matrix : Train Data\")"
   ]
  },
  {
   "cell_type": "code",
   "execution_count": null,
   "metadata": {},
   "outputs": [],
   "source": []
  }
 ],
 "metadata": {
  "kernelspec": {
   "display_name": "Python 3 (ipykernel)",
   "language": "python",
   "name": "python3"
  },
  "language_info": {
   "codemirror_mode": {
    "name": "ipython",
    "version": 3
   },
   "file_extension": ".py",
   "mimetype": "text/x-python",
   "name": "python",
   "nbconvert_exporter": "python",
   "pygments_lexer": "ipython3",
   "version": "3.10.11"
  }
 },
 "nbformat": 4,
 "nbformat_minor": 4
}

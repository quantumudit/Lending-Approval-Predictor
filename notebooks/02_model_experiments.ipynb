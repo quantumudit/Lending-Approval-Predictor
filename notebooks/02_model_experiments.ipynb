{
 "cells": [
  {
   "cell_type": "markdown",
   "metadata": {},
   "source": [
    "# Machine Learning Model Experiments"
   ]
  },
  {
   "cell_type": "markdown",
   "metadata": {},
   "source": [
    "## Experiment Setup"
   ]
  },
  {
   "cell_type": "code",
   "execution_count": 1,
   "metadata": {
    "execution": {
     "iopub.execute_input": "2024-02-14T13:11:33.397012Z",
     "iopub.status.busy": "2024-02-14T13:11:33.396009Z",
     "iopub.status.idle": "2024-02-14T13:11:33.426021Z",
     "shell.execute_reply": "2024-02-14T13:11:33.423016Z",
     "shell.execute_reply.started": "2024-02-14T13:11:33.397012Z"
    }
   },
   "outputs": [
    {
     "name": "stdout",
     "output_type": "stream",
     "text": [
      "Current working directory: notebooks\n",
      "Current working directory (Changed): Lending-Approval-Predictor\n"
     ]
    }
   ],
   "source": [
    "# Setting up execution path\n",
    "import os\n",
    "\n",
    "print(f\"Current working directory: {os.path.basename(os.getcwd())}\")\n",
    "\n",
    "# Change to root directory\n",
    "os.chdir(\"../\")\n",
    "print(f\"Current working directory (Changed): {os.path.basename(os.getcwd())}\")"
   ]
  },
  {
   "cell_type": "code",
   "execution_count": 2,
   "metadata": {
    "execution": {
     "iopub.execute_input": "2024-02-14T13:11:34.627800Z",
     "iopub.status.busy": "2024-02-14T13:11:34.626754Z",
     "iopub.status.idle": "2024-02-14T13:11:38.851605Z",
     "shell.execute_reply": "2024-02-14T13:11:38.848920Z",
     "shell.execute_reply.started": "2024-02-14T13:11:34.627800Z"
    }
   },
   "outputs": [],
   "source": [
    "#imports\n",
    "import numpy as np\n",
    "import pandas as pd\n",
    "import matplotlib.pyplot as plt\n",
    "import seaborn as sns\n",
    "import warnings\n",
    "\n",
    "# module setup\n",
    "%matplotlib inline\n",
    "pd.options.display.precision = 3\n",
    "warnings.filterwarnings(\"ignore\")"
   ]
  },
  {
   "cell_type": "code",
   "execution_count": 3,
   "metadata": {
    "execution": {
     "iopub.execute_input": "2024-02-14T13:11:38.854620Z",
     "iopub.status.busy": "2024-02-14T13:11:38.854620Z",
     "iopub.status.idle": "2024-02-14T13:11:38.867160Z",
     "shell.execute_reply": "2024-02-14T13:11:38.864153Z",
     "shell.execute_reply.started": "2024-02-14T13:11:38.854620Z"
    }
   },
   "outputs": [],
   "source": [
    "from os.path import dirname, normpath"
   ]
  },
  {
   "cell_type": "code",
   "execution_count": 4,
   "metadata": {
    "execution": {
     "iopub.execute_input": "2024-02-14T13:11:38.872152Z",
     "iopub.status.busy": "2024-02-14T13:11:38.870149Z",
     "iopub.status.idle": "2024-02-14T13:11:39.104222Z",
     "shell.execute_reply": "2024-02-14T13:11:39.101301Z",
     "shell.execute_reply.started": "2024-02-14T13:11:38.872152Z"
    }
   },
   "outputs": [],
   "source": [
    "from src.constants import CONFIGS, PARAMS\n",
    "from src.exception import CustomException\n",
    "from src.logger import logger\n",
    "from src.utils.basic_utils import create_directories, read_yaml"
   ]
  },
  {
   "cell_type": "code",
   "execution_count": 5,
   "metadata": {
    "execution": {
     "iopub.execute_input": "2024-02-14T13:11:39.109218Z",
     "iopub.status.busy": "2024-02-14T13:11:39.108229Z",
     "iopub.status.idle": "2024-02-14T13:11:39.136226Z",
     "shell.execute_reply": "2024-02-14T13:11:39.133244Z",
     "shell.execute_reply.started": "2024-02-14T13:11:39.109218Z"
    }
   },
   "outputs": [
    {
     "name": "stdout",
     "output_type": "stream",
     "text": [
      "[2024-02-14 06:41:39 PM]:ProjectLogger INFO:basic_utils 43 - yaml file: conf\\configs.yaml loaded successfully\n"
     ]
    }
   ],
   "source": [
    "# Read the configuration files\n",
    "configs = read_yaml(CONFIGS).model_evaluation\n",
    "\n",
    "# Train and test array paths\n",
    "train_array_path = normpath(configs.train_array_path)\n",
    "test_array_path = normpath(configs.test_array_path)"
   ]
  },
  {
   "cell_type": "code",
   "execution_count": 6,
   "metadata": {
    "execution": {
     "iopub.execute_input": "2024-02-14T13:11:39.140739Z",
     "iopub.status.busy": "2024-02-14T13:11:39.139229Z",
     "iopub.status.idle": "2024-02-14T13:11:39.167756Z",
     "shell.execute_reply": "2024-02-14T13:11:39.164756Z",
     "shell.execute_reply.started": "2024-02-14T13:11:39.140739Z"
    }
   },
   "outputs": [
    {
     "name": "stdout",
     "output_type": "stream",
     "text": [
      "The shape of x_train: (7662, 19)\n",
      "The shape of y_train: (7662,)\n",
      "The shape of x_test: (1916, 19)\n",
      "The shape of y_test: (1916,)\n"
     ]
    }
   ],
   "source": [
    "# Load the training and test set array\n",
    "train_array = np.load(train_array_path)\n",
    "test_array = np.load(test_array_path)\n",
    "\n",
    "# Split train_array into features and target\n",
    "x_train, y_train = train_array[:, :-1], train_array[:, -1]\n",
    "x_test, y_test = test_array[:, :-1], test_array[:, -1]\n",
    "\n",
    "# Log the shapes\n",
    "print(f\"The shape of x_train: {x_train.shape}\")\n",
    "print(f\"The shape of y_train: {y_train.shape}\")\n",
    "\n",
    "print(f\"The shape of x_test: {x_test.shape}\")\n",
    "print(f\"The shape of y_test: {y_test.shape}\")"
   ]
  },
  {
   "cell_type": "code",
   "execution_count": 7,
   "metadata": {
    "execution": {
     "iopub.execute_input": "2024-02-14T13:11:40.377459Z",
     "iopub.status.busy": "2024-02-14T13:11:40.376460Z",
     "iopub.status.idle": "2024-02-14T13:11:41.261891Z",
     "shell.execute_reply": "2024-02-14T13:11:41.258799Z",
     "shell.execute_reply.started": "2024-02-14T13:11:40.377459Z"
    }
   },
   "outputs": [],
   "source": [
    "from sklearn.tree import DecisionTreeClassifier\n",
    "from sklearn.ensemble import RandomForestClassifier"
   ]
  },
  {
   "cell_type": "code",
   "execution_count": 8,
   "metadata": {
    "execution": {
     "iopub.execute_input": "2024-02-14T13:11:41.269833Z",
     "iopub.status.busy": "2024-02-14T13:11:41.268834Z",
     "iopub.status.idle": "2024-02-14T13:11:41.292830Z",
     "shell.execute_reply": "2024-02-14T13:11:41.289831Z",
     "shell.execute_reply.started": "2024-02-14T13:11:41.269833Z"
    }
   },
   "outputs": [],
   "source": [
    "models = {\n",
    "    \"Decision Tree\": DecisionTreeClassifier(),\n",
    "    \"Random Forest\": RandomForestClassifier(),\n",
    "}"
   ]
  },
  {
   "cell_type": "code",
   "execution_count": 9,
   "metadata": {
    "execution": {
     "iopub.execute_input": "2024-02-14T13:11:44.540892Z",
     "iopub.status.busy": "2024-02-14T13:11:44.540892Z",
     "iopub.status.idle": "2024-02-14T13:11:44.567441Z",
     "shell.execute_reply": "2024-02-14T13:11:44.565521Z",
     "shell.execute_reply.started": "2024-02-14T13:11:44.540892Z"
    }
   },
   "outputs": [
    {
     "name": "stdout",
     "output_type": "stream",
     "text": [
      "[2024-02-14 06:41:44 PM]:ProjectLogger INFO:basic_utils 43 - yaml file: conf\\params.yaml loaded successfully\n"
     ]
    }
   ],
   "source": [
    "# Read the params files\n",
    "params = read_yaml(PARAMS)"
   ]
  },
  {
   "cell_type": "code",
   "execution_count": 10,
   "metadata": {
    "execution": {
     "iopub.execute_input": "2024-02-14T13:11:45.770524Z",
     "iopub.status.busy": "2024-02-14T13:11:45.770524Z",
     "iopub.status.idle": "2024-02-14T13:11:45.790260Z",
     "shell.execute_reply": "2024-02-14T13:11:45.788253Z",
     "shell.execute_reply.started": "2024-02-14T13:11:45.770524Z"
    }
   },
   "outputs": [
    {
     "name": "stdout",
     "output_type": "stream",
     "text": [
      "{'criterion': ['gini', 'entropy', 'log_loss'], 'max_features': ['sqrt', 'log2'], 'n_estimators': [8, 16, 32, 64, 128, 256]}\n",
      "{'criterion': ['gini', 'entropy', 'log_loss'], 'splitter': ['best', 'random'], 'max_features': ['sqrt', 'log2']}\n"
     ]
    }
   ],
   "source": [
    "# Params content\n",
    "print(params.random_forest.to_dict())\n",
    "print(params.decision_tree.to_dict())"
   ]
  },
  {
   "cell_type": "code",
   "execution_count": 11,
   "metadata": {
    "execution": {
     "iopub.execute_input": "2024-02-14T13:11:47.229972Z",
     "iopub.status.busy": "2024-02-14T13:11:47.228018Z",
     "iopub.status.idle": "2024-02-14T13:11:47.253540Z",
     "shell.execute_reply": "2024-02-14T13:11:47.251093Z",
     "shell.execute_reply.started": "2024-02-14T13:11:47.229972Z"
    }
   },
   "outputs": [],
   "source": [
    "hyper_params = {\n",
    "    \"Decision Tree\": params.decision_tree.to_dict(),\n",
    "    \"Random Forest\": params.random_forest.to_dict(),\n",
    "}"
   ]
  },
  {
   "cell_type": "code",
   "execution_count": 12,
   "metadata": {
    "execution": {
     "iopub.execute_input": "2024-02-14T13:11:52.131609Z",
     "iopub.status.busy": "2024-02-14T13:11:52.130600Z",
     "iopub.status.idle": "2024-02-14T13:11:52.152727Z",
     "shell.execute_reply": "2024-02-14T13:11:52.150602Z",
     "shell.execute_reply.started": "2024-02-14T13:11:52.131609Z"
    }
   },
   "outputs": [],
   "source": [
    "# hyper_params = {\n",
    "#     \"Decision Tree\": {\n",
    "#         \"criterion\": [\"gini\", \"entropy\", \"log_loss\"],\n",
    "#         \"splitter\": [\"best\", \"random\"],\n",
    "#         \"max_features\": [\"sqrt\", \"log2\"],\n",
    "#     },\n",
    "#     \"Random Forest\": {\n",
    "#         \"criterion\": [\"gini\", \"entropy\", \"log_loss\"],\n",
    "#         \"max_features\": [\"sqrt\", \"log2\"],\n",
    "#         \"n_estimators\": [8, 16, 32, 64, 128, 256],\n",
    "#     },\n",
    "# }"
   ]
  },
  {
   "cell_type": "code",
   "execution_count": 13,
   "metadata": {
    "execution": {
     "iopub.execute_input": "2024-02-14T13:11:53.053736Z",
     "iopub.status.busy": "2024-02-14T13:11:53.052738Z",
     "iopub.status.idle": "2024-02-14T13:11:53.074355Z",
     "shell.execute_reply": "2024-02-14T13:11:53.072352Z",
     "shell.execute_reply.started": "2024-02-14T13:11:53.053736Z"
    }
   },
   "outputs": [],
   "source": [
    "from sklearn.model_selection import GridSearchCV\n",
    "from sklearn.metrics import f1_score"
   ]
  },
  {
   "cell_type": "code",
   "execution_count": 14,
   "metadata": {
    "execution": {
     "iopub.execute_input": "2024-02-14T13:11:54.343830Z",
     "iopub.status.busy": "2024-02-14T13:11:54.342836Z",
     "iopub.status.idle": "2024-02-14T13:11:54.355771Z",
     "shell.execute_reply": "2024-02-14T13:11:54.352843Z",
     "shell.execute_reply.started": "2024-02-14T13:11:54.343830Z"
    }
   },
   "outputs": [],
   "source": [
    "from src.utils.model_utils import evaluate_classification_models, get_best_model"
   ]
  },
  {
   "cell_type": "code",
   "execution_count": 15,
   "metadata": {
    "execution": {
     "iopub.execute_input": "2024-02-14T13:11:56.759469Z",
     "iopub.status.busy": "2024-02-14T13:11:56.758442Z",
     "iopub.status.idle": "2024-02-14T13:14:58.135159Z",
     "shell.execute_reply": "2024-02-14T13:14:58.132237Z",
     "shell.execute_reply.started": "2024-02-14T13:11:56.759469Z"
    }
   },
   "outputs": [],
   "source": [
    "model_scores = evaluate_classification_models(\n",
    "    x_train=x_train, y_train=y_train, x_test=x_test, y_test=y_test, \n",
    "    models=models, params=hyper_params, binary_classification=True)"
   ]
  },
  {
   "cell_type": "code",
   "execution_count": 16,
   "metadata": {
    "execution": {
     "iopub.execute_input": "2024-02-14T13:17:53.630302Z",
     "iopub.status.busy": "2024-02-14T13:17:53.629313Z",
     "iopub.status.idle": "2024-02-14T13:17:53.663815Z",
     "shell.execute_reply": "2024-02-14T13:17:53.660824Z",
     "shell.execute_reply.started": "2024-02-14T13:17:53.630302Z"
    }
   },
   "outputs": [
    {
     "data": {
      "text/plain": [
       "[{'model_name': 'Decision Tree',\n",
       "  'model': DecisionTreeClassifier(criterion='log_loss', max_features='log2'),\n",
       "  'hyperparameters': {'criterion': 'log_loss',\n",
       "   'max_features': 'log2',\n",
       "   'splitter': 'best'},\n",
       "  'accuracy_score_train': 1.0,\n",
       "  'precision_score_train': 1.0,\n",
       "  'recall_score_train': 1.0,\n",
       "  'f1_score_train': 1.0,\n",
       "  'accuracy_score_test': 0.9775574112734864,\n",
       "  'precision_score_test': 0.9845061329890252,\n",
       "  'recall_score_test': 0.9876943005181347,\n",
       "  'f1_score_test': 0.9860976398318785},\n",
       " {'model_name': 'Random Forest',\n",
       "  'model': RandomForestClassifier(criterion='log_loss', n_estimators=16),\n",
       "  'hyperparameters': {'criterion': 'log_loss',\n",
       "   'max_features': 'sqrt',\n",
       "   'n_estimators': 16},\n",
       "  'accuracy_score_train': 0.9997389715478987,\n",
       "  'precision_score_train': 0.9996757457846952,\n",
       "  'recall_score_train': 1.0,\n",
       "  'f1_score_train': 0.9998378466028863,\n",
       "  'accuracy_score_test': 0.9859081419624217,\n",
       "  'precision_score_test': 0.986529826812059,\n",
       "  'recall_score_test': 0.9961139896373057,\n",
       "  'f1_score_test': 0.9912987431517886}]"
      ]
     },
     "execution_count": 16,
     "metadata": {},
     "output_type": "execute_result"
    }
   ],
   "source": [
    "model_scores"
   ]
  },
  {
   "cell_type": "code",
   "execution_count": 17,
   "metadata": {
    "execution": {
     "iopub.execute_input": "2024-02-14T13:18:25.996416Z",
     "iopub.status.busy": "2024-02-14T13:18:25.995397Z",
     "iopub.status.idle": "2024-02-14T13:18:26.103496Z",
     "shell.execute_reply": "2024-02-14T13:18:26.099497Z",
     "shell.execute_reply.started": "2024-02-14T13:18:25.996416Z"
    }
   },
   "outputs": [
    {
     "data": {
      "text/html": [
       "<div>\n",
       "<style scoped>\n",
       "    .dataframe tbody tr th:only-of-type {\n",
       "        vertical-align: middle;\n",
       "    }\n",
       "\n",
       "    .dataframe tbody tr th {\n",
       "        vertical-align: top;\n",
       "    }\n",
       "\n",
       "    .dataframe thead th {\n",
       "        text-align: right;\n",
       "    }\n",
       "</style>\n",
       "<table border=\"1\" class=\"dataframe\">\n",
       "  <thead>\n",
       "    <tr style=\"text-align: right;\">\n",
       "      <th></th>\n",
       "      <th>model_name</th>\n",
       "      <th>model</th>\n",
       "      <th>hyperparameters</th>\n",
       "      <th>accuracy_score_train</th>\n",
       "      <th>precision_score_train</th>\n",
       "      <th>recall_score_train</th>\n",
       "      <th>f1_score_train</th>\n",
       "      <th>accuracy_score_test</th>\n",
       "      <th>precision_score_test</th>\n",
       "      <th>recall_score_test</th>\n",
       "      <th>f1_score_test</th>\n",
       "    </tr>\n",
       "  </thead>\n",
       "  <tbody>\n",
       "    <tr>\n",
       "      <th>0</th>\n",
       "      <td>Decision Tree</td>\n",
       "      <td>DecisionTreeClassifier(criterion='log_loss', m...</td>\n",
       "      <td>{'criterion': 'log_loss', 'max_features': 'log...</td>\n",
       "      <td>1.0</td>\n",
       "      <td>1.0</td>\n",
       "      <td>1.0</td>\n",
       "      <td>1.0</td>\n",
       "      <td>0.978</td>\n",
       "      <td>0.985</td>\n",
       "      <td>0.988</td>\n",
       "      <td>0.986</td>\n",
       "    </tr>\n",
       "    <tr>\n",
       "      <th>1</th>\n",
       "      <td>Random Forest</td>\n",
       "      <td>(DecisionTreeClassifier(criterion='log_loss', ...</td>\n",
       "      <td>{'criterion': 'log_loss', 'max_features': 'sqr...</td>\n",
       "      <td>1.0</td>\n",
       "      <td>1.0</td>\n",
       "      <td>1.0</td>\n",
       "      <td>1.0</td>\n",
       "      <td>0.986</td>\n",
       "      <td>0.987</td>\n",
       "      <td>0.996</td>\n",
       "      <td>0.991</td>\n",
       "    </tr>\n",
       "  </tbody>\n",
       "</table>\n",
       "</div>"
      ],
      "text/plain": [
       "      model_name                                              model  \\\n",
       "0  Decision Tree  DecisionTreeClassifier(criterion='log_loss', m...   \n",
       "1  Random Forest  (DecisionTreeClassifier(criterion='log_loss', ...   \n",
       "\n",
       "                                     hyperparameters  accuracy_score_train  \\\n",
       "0  {'criterion': 'log_loss', 'max_features': 'log...                   1.0   \n",
       "1  {'criterion': 'log_loss', 'max_features': 'sqr...                   1.0   \n",
       "\n",
       "   precision_score_train  recall_score_train  f1_score_train  \\\n",
       "0                    1.0                 1.0             1.0   \n",
       "1                    1.0                 1.0             1.0   \n",
       "\n",
       "   accuracy_score_test  precision_score_test  recall_score_test  f1_score_test  \n",
       "0                0.978                 0.985              0.988          0.986  \n",
       "1                0.986                 0.987              0.996          0.991  "
      ]
     },
     "execution_count": 17,
     "metadata": {},
     "output_type": "execute_result"
    }
   ],
   "source": [
    "scores_df = pd.DataFrame(model_scores)\n",
    "scores_df"
   ]
  },
  {
   "cell_type": "code",
   "execution_count": 22,
   "metadata": {
    "execution": {
     "iopub.execute_input": "2024-02-14T13:25:39.604616Z",
     "iopub.status.busy": "2024-02-14T13:25:39.602614Z",
     "iopub.status.idle": "2024-02-14T13:25:39.640718Z",
     "shell.execute_reply": "2024-02-14T13:25:39.637698Z",
     "shell.execute_reply.started": "2024-02-14T13:25:39.604616Z"
    }
   },
   "outputs": [
    {
     "data": {
      "text/plain": [
       "{'model_name': 'Random Forest',\n",
       " 'model': RandomForestClassifier(criterion='log_loss', n_estimators=16),\n",
       " 'hyperparameters': {'criterion': 'log_loss',\n",
       "  'max_features': 'sqrt',\n",
       "  'n_estimators': 16}}"
      ]
     },
     "execution_count": 22,
     "metadata": {},
     "output_type": "execute_result"
    }
   ],
   "source": [
    "best_model = get_best_model(scores_df, evaluation_metric=\"f1_score_test\")\n",
    "best_model"
   ]
  },
  {
   "cell_type": "code",
   "execution_count": 24,
   "metadata": {
    "execution": {
     "iopub.execute_input": "2024-02-14T13:40:37.918878Z",
     "iopub.status.busy": "2024-02-14T13:40:37.916871Z",
     "iopub.status.idle": "2024-02-14T13:40:37.948495Z",
     "shell.execute_reply": "2024-02-14T13:40:37.946576Z",
     "shell.execute_reply.started": "2024-02-14T13:40:37.917890Z"
    }
   },
   "outputs": [
    {
     "data": {
      "text/html": [
       "<style>#sk-container-id-2 {\n",
       "  /* Definition of color scheme common for light and dark mode */\n",
       "  --sklearn-color-text: black;\n",
       "  --sklearn-color-line: gray;\n",
       "  /* Definition of color scheme for unfitted estimators */\n",
       "  --sklearn-color-unfitted-level-0: #fff5e6;\n",
       "  --sklearn-color-unfitted-level-1: #f6e4d2;\n",
       "  --sklearn-color-unfitted-level-2: #ffe0b3;\n",
       "  --sklearn-color-unfitted-level-3: chocolate;\n",
       "  /* Definition of color scheme for fitted estimators */\n",
       "  --sklearn-color-fitted-level-0: #f0f8ff;\n",
       "  --sklearn-color-fitted-level-1: #d4ebff;\n",
       "  --sklearn-color-fitted-level-2: #b3dbfd;\n",
       "  --sklearn-color-fitted-level-3: cornflowerblue;\n",
       "\n",
       "  /* Specific color for light theme */\n",
       "  --sklearn-color-text-on-default-background: var(--sg-text-color, var(--theme-code-foreground, var(--jp-content-font-color1, black)));\n",
       "  --sklearn-color-background: var(--sg-background-color, var(--theme-background, var(--jp-layout-color0, white)));\n",
       "  --sklearn-color-border-box: var(--sg-text-color, var(--theme-code-foreground, var(--jp-content-font-color1, black)));\n",
       "  --sklearn-color-icon: #696969;\n",
       "\n",
       "  @media (prefers-color-scheme: dark) {\n",
       "    /* Redefinition of color scheme for dark theme */\n",
       "    --sklearn-color-text-on-default-background: var(--sg-text-color, var(--theme-code-foreground, var(--jp-content-font-color1, white)));\n",
       "    --sklearn-color-background: var(--sg-background-color, var(--theme-background, var(--jp-layout-color0, #111)));\n",
       "    --sklearn-color-border-box: var(--sg-text-color, var(--theme-code-foreground, var(--jp-content-font-color1, white)));\n",
       "    --sklearn-color-icon: #878787;\n",
       "  }\n",
       "}\n",
       "\n",
       "#sk-container-id-2 {\n",
       "  color: var(--sklearn-color-text);\n",
       "}\n",
       "\n",
       "#sk-container-id-2 pre {\n",
       "  padding: 0;\n",
       "}\n",
       "\n",
       "#sk-container-id-2 input.sk-hidden--visually {\n",
       "  border: 0;\n",
       "  clip: rect(1px 1px 1px 1px);\n",
       "  clip: rect(1px, 1px, 1px, 1px);\n",
       "  height: 1px;\n",
       "  margin: -1px;\n",
       "  overflow: hidden;\n",
       "  padding: 0;\n",
       "  position: absolute;\n",
       "  width: 1px;\n",
       "}\n",
       "\n",
       "#sk-container-id-2 div.sk-dashed-wrapped {\n",
       "  border: 1px dashed var(--sklearn-color-line);\n",
       "  margin: 0 0.4em 0.5em 0.4em;\n",
       "  box-sizing: border-box;\n",
       "  padding-bottom: 0.4em;\n",
       "  background-color: var(--sklearn-color-background);\n",
       "}\n",
       "\n",
       "#sk-container-id-2 div.sk-container {\n",
       "  /* jupyter's `normalize.less` sets `[hidden] { display: none; }`\n",
       "     but bootstrap.min.css set `[hidden] { display: none !important; }`\n",
       "     so we also need the `!important` here to be able to override the\n",
       "     default hidden behavior on the sphinx rendered scikit-learn.org.\n",
       "     See: https://github.com/scikit-learn/scikit-learn/issues/21755 */\n",
       "  display: inline-block !important;\n",
       "  position: relative;\n",
       "}\n",
       "\n",
       "#sk-container-id-2 div.sk-text-repr-fallback {\n",
       "  display: none;\n",
       "}\n",
       "\n",
       "div.sk-parallel-item,\n",
       "div.sk-serial,\n",
       "div.sk-item {\n",
       "  /* draw centered vertical line to link estimators */\n",
       "  background-image: linear-gradient(var(--sklearn-color-text-on-default-background), var(--sklearn-color-text-on-default-background));\n",
       "  background-size: 2px 100%;\n",
       "  background-repeat: no-repeat;\n",
       "  background-position: center center;\n",
       "}\n",
       "\n",
       "/* Parallel-specific style estimator block */\n",
       "\n",
       "#sk-container-id-2 div.sk-parallel-item::after {\n",
       "  content: \"\";\n",
       "  width: 100%;\n",
       "  border-bottom: 2px solid var(--sklearn-color-text-on-default-background);\n",
       "  flex-grow: 1;\n",
       "}\n",
       "\n",
       "#sk-container-id-2 div.sk-parallel {\n",
       "  display: flex;\n",
       "  align-items: stretch;\n",
       "  justify-content: center;\n",
       "  background-color: var(--sklearn-color-background);\n",
       "  position: relative;\n",
       "}\n",
       "\n",
       "#sk-container-id-2 div.sk-parallel-item {\n",
       "  display: flex;\n",
       "  flex-direction: column;\n",
       "}\n",
       "\n",
       "#sk-container-id-2 div.sk-parallel-item:first-child::after {\n",
       "  align-self: flex-end;\n",
       "  width: 50%;\n",
       "}\n",
       "\n",
       "#sk-container-id-2 div.sk-parallel-item:last-child::after {\n",
       "  align-self: flex-start;\n",
       "  width: 50%;\n",
       "}\n",
       "\n",
       "#sk-container-id-2 div.sk-parallel-item:only-child::after {\n",
       "  width: 0;\n",
       "}\n",
       "\n",
       "/* Serial-specific style estimator block */\n",
       "\n",
       "#sk-container-id-2 div.sk-serial {\n",
       "  display: flex;\n",
       "  flex-direction: column;\n",
       "  align-items: center;\n",
       "  background-color: var(--sklearn-color-background);\n",
       "  padding-right: 1em;\n",
       "  padding-left: 1em;\n",
       "}\n",
       "\n",
       "\n",
       "/* Toggleable style: style used for estimator/Pipeline/ColumnTransformer box that is\n",
       "clickable and can be expanded/collapsed.\n",
       "- Pipeline and ColumnTransformer use this feature and define the default style\n",
       "- Estimators will overwrite some part of the style using the `sk-estimator` class\n",
       "*/\n",
       "\n",
       "/* Pipeline and ColumnTransformer style (default) */\n",
       "\n",
       "#sk-container-id-2 div.sk-toggleable {\n",
       "  /* Default theme specific background. It is overwritten whether we have a\n",
       "  specific estimator or a Pipeline/ColumnTransformer */\n",
       "  background-color: var(--sklearn-color-background);\n",
       "}\n",
       "\n",
       "/* Toggleable label */\n",
       "#sk-container-id-2 label.sk-toggleable__label {\n",
       "  cursor: pointer;\n",
       "  display: block;\n",
       "  width: 100%;\n",
       "  margin-bottom: 0;\n",
       "  padding: 0.5em;\n",
       "  box-sizing: border-box;\n",
       "  text-align: center;\n",
       "}\n",
       "\n",
       "#sk-container-id-2 label.sk-toggleable__label-arrow:before {\n",
       "  /* Arrow on the left of the label */\n",
       "  content: \"▸\";\n",
       "  float: left;\n",
       "  margin-right: 0.25em;\n",
       "  color: var(--sklearn-color-icon);\n",
       "}\n",
       "\n",
       "#sk-container-id-2 label.sk-toggleable__label-arrow:hover:before {\n",
       "  color: var(--sklearn-color-text);\n",
       "}\n",
       "\n",
       "/* Toggleable content - dropdown */\n",
       "\n",
       "#sk-container-id-2 div.sk-toggleable__content {\n",
       "  max-height: 0;\n",
       "  max-width: 0;\n",
       "  overflow: hidden;\n",
       "  text-align: left;\n",
       "  /* unfitted */\n",
       "  background-color: var(--sklearn-color-unfitted-level-0);\n",
       "}\n",
       "\n",
       "#sk-container-id-2 div.sk-toggleable__content.fitted {\n",
       "  /* fitted */\n",
       "  background-color: var(--sklearn-color-fitted-level-0);\n",
       "}\n",
       "\n",
       "#sk-container-id-2 div.sk-toggleable__content pre {\n",
       "  margin: 0.2em;\n",
       "  border-radius: 0.25em;\n",
       "  color: var(--sklearn-color-text);\n",
       "  /* unfitted */\n",
       "  background-color: var(--sklearn-color-unfitted-level-0);\n",
       "}\n",
       "\n",
       "#sk-container-id-2 div.sk-toggleable__content.fitted pre {\n",
       "  /* unfitted */\n",
       "  background-color: var(--sklearn-color-fitted-level-0);\n",
       "}\n",
       "\n",
       "#sk-container-id-2 input.sk-toggleable__control:checked~div.sk-toggleable__content {\n",
       "  /* Expand drop-down */\n",
       "  max-height: 200px;\n",
       "  max-width: 100%;\n",
       "  overflow: auto;\n",
       "}\n",
       "\n",
       "#sk-container-id-2 input.sk-toggleable__control:checked~label.sk-toggleable__label-arrow:before {\n",
       "  content: \"▾\";\n",
       "}\n",
       "\n",
       "/* Pipeline/ColumnTransformer-specific style */\n",
       "\n",
       "#sk-container-id-2 div.sk-label input.sk-toggleable__control:checked~label.sk-toggleable__label {\n",
       "  color: var(--sklearn-color-text);\n",
       "  background-color: var(--sklearn-color-unfitted-level-2);\n",
       "}\n",
       "\n",
       "#sk-container-id-2 div.sk-label.fitted input.sk-toggleable__control:checked~label.sk-toggleable__label {\n",
       "  background-color: var(--sklearn-color-fitted-level-2);\n",
       "}\n",
       "\n",
       "/* Estimator-specific style */\n",
       "\n",
       "/* Colorize estimator box */\n",
       "#sk-container-id-2 div.sk-estimator input.sk-toggleable__control:checked~label.sk-toggleable__label {\n",
       "  /* unfitted */\n",
       "  background-color: var(--sklearn-color-unfitted-level-2);\n",
       "}\n",
       "\n",
       "#sk-container-id-2 div.sk-estimator.fitted input.sk-toggleable__control:checked~label.sk-toggleable__label {\n",
       "  /* fitted */\n",
       "  background-color: var(--sklearn-color-fitted-level-2);\n",
       "}\n",
       "\n",
       "#sk-container-id-2 div.sk-label label.sk-toggleable__label,\n",
       "#sk-container-id-2 div.sk-label label {\n",
       "  /* The background is the default theme color */\n",
       "  color: var(--sklearn-color-text-on-default-background);\n",
       "}\n",
       "\n",
       "/* On hover, darken the color of the background */\n",
       "#sk-container-id-2 div.sk-label:hover label.sk-toggleable__label {\n",
       "  color: var(--sklearn-color-text);\n",
       "  background-color: var(--sklearn-color-unfitted-level-2);\n",
       "}\n",
       "\n",
       "/* Label box, darken color on hover, fitted */\n",
       "#sk-container-id-2 div.sk-label.fitted:hover label.sk-toggleable__label.fitted {\n",
       "  color: var(--sklearn-color-text);\n",
       "  background-color: var(--sklearn-color-fitted-level-2);\n",
       "}\n",
       "\n",
       "/* Estimator label */\n",
       "\n",
       "#sk-container-id-2 div.sk-label label {\n",
       "  font-family: monospace;\n",
       "  font-weight: bold;\n",
       "  display: inline-block;\n",
       "  line-height: 1.2em;\n",
       "}\n",
       "\n",
       "#sk-container-id-2 div.sk-label-container {\n",
       "  text-align: center;\n",
       "}\n",
       "\n",
       "/* Estimator-specific */\n",
       "#sk-container-id-2 div.sk-estimator {\n",
       "  font-family: monospace;\n",
       "  border: 1px dotted var(--sklearn-color-border-box);\n",
       "  border-radius: 0.25em;\n",
       "  box-sizing: border-box;\n",
       "  margin-bottom: 0.5em;\n",
       "  /* unfitted */\n",
       "  background-color: var(--sklearn-color-unfitted-level-0);\n",
       "}\n",
       "\n",
       "#sk-container-id-2 div.sk-estimator.fitted {\n",
       "  /* fitted */\n",
       "  background-color: var(--sklearn-color-fitted-level-0);\n",
       "}\n",
       "\n",
       "/* on hover */\n",
       "#sk-container-id-2 div.sk-estimator:hover {\n",
       "  /* unfitted */\n",
       "  background-color: var(--sklearn-color-unfitted-level-2);\n",
       "}\n",
       "\n",
       "#sk-container-id-2 div.sk-estimator.fitted:hover {\n",
       "  /* fitted */\n",
       "  background-color: var(--sklearn-color-fitted-level-2);\n",
       "}\n",
       "\n",
       "/* Specification for estimator info (e.g. \"i\" and \"?\") */\n",
       "\n",
       "/* Common style for \"i\" and \"?\" */\n",
       "\n",
       ".sk-estimator-doc-link,\n",
       "a:link.sk-estimator-doc-link,\n",
       "a:visited.sk-estimator-doc-link {\n",
       "  float: right;\n",
       "  font-size: smaller;\n",
       "  line-height: 1em;\n",
       "  font-family: monospace;\n",
       "  background-color: var(--sklearn-color-background);\n",
       "  border-radius: 1em;\n",
       "  height: 1em;\n",
       "  width: 1em;\n",
       "  text-decoration: none !important;\n",
       "  margin-left: 1ex;\n",
       "  /* unfitted */\n",
       "  border: var(--sklearn-color-unfitted-level-1) 1pt solid;\n",
       "  color: var(--sklearn-color-unfitted-level-1);\n",
       "}\n",
       "\n",
       ".sk-estimator-doc-link.fitted,\n",
       "a:link.sk-estimator-doc-link.fitted,\n",
       "a:visited.sk-estimator-doc-link.fitted {\n",
       "  /* fitted */\n",
       "  border: var(--sklearn-color-fitted-level-1) 1pt solid;\n",
       "  color: var(--sklearn-color-fitted-level-1);\n",
       "}\n",
       "\n",
       "/* On hover */\n",
       "div.sk-estimator:hover .sk-estimator-doc-link:hover,\n",
       ".sk-estimator-doc-link:hover,\n",
       "div.sk-label-container:hover .sk-estimator-doc-link:hover,\n",
       ".sk-estimator-doc-link:hover {\n",
       "  /* unfitted */\n",
       "  background-color: var(--sklearn-color-unfitted-level-3);\n",
       "  color: var(--sklearn-color-background);\n",
       "  text-decoration: none;\n",
       "}\n",
       "\n",
       "div.sk-estimator.fitted:hover .sk-estimator-doc-link.fitted:hover,\n",
       ".sk-estimator-doc-link.fitted:hover,\n",
       "div.sk-label-container:hover .sk-estimator-doc-link.fitted:hover,\n",
       ".sk-estimator-doc-link.fitted:hover {\n",
       "  /* fitted */\n",
       "  background-color: var(--sklearn-color-fitted-level-3);\n",
       "  color: var(--sklearn-color-background);\n",
       "  text-decoration: none;\n",
       "}\n",
       "\n",
       "/* Span, style for the box shown on hovering the info icon */\n",
       ".sk-estimator-doc-link span {\n",
       "  display: none;\n",
       "  z-index: 9999;\n",
       "  position: relative;\n",
       "  font-weight: normal;\n",
       "  right: .2ex;\n",
       "  padding: .5ex;\n",
       "  margin: .5ex;\n",
       "  width: min-content;\n",
       "  min-width: 20ex;\n",
       "  max-width: 50ex;\n",
       "  color: var(--sklearn-color-text);\n",
       "  box-shadow: 2pt 2pt 4pt #999;\n",
       "  /* unfitted */\n",
       "  background: var(--sklearn-color-unfitted-level-0);\n",
       "  border: .5pt solid var(--sklearn-color-unfitted-level-3);\n",
       "}\n",
       "\n",
       ".sk-estimator-doc-link.fitted span {\n",
       "  /* fitted */\n",
       "  background: var(--sklearn-color-fitted-level-0);\n",
       "  border: var(--sklearn-color-fitted-level-3);\n",
       "}\n",
       "\n",
       ".sk-estimator-doc-link:hover span {\n",
       "  display: block;\n",
       "}\n",
       "\n",
       "/* \"?\"-specific style due to the `<a>` HTML tag */\n",
       "\n",
       "#sk-container-id-2 a.estimator_doc_link {\n",
       "  float: right;\n",
       "  font-size: 1rem;\n",
       "  line-height: 1em;\n",
       "  font-family: monospace;\n",
       "  background-color: var(--sklearn-color-background);\n",
       "  border-radius: 1rem;\n",
       "  height: 1rem;\n",
       "  width: 1rem;\n",
       "  text-decoration: none;\n",
       "  /* unfitted */\n",
       "  color: var(--sklearn-color-unfitted-level-1);\n",
       "  border: var(--sklearn-color-unfitted-level-1) 1pt solid;\n",
       "}\n",
       "\n",
       "#sk-container-id-2 a.estimator_doc_link.fitted {\n",
       "  /* fitted */\n",
       "  border: var(--sklearn-color-fitted-level-1) 1pt solid;\n",
       "  color: var(--sklearn-color-fitted-level-1);\n",
       "}\n",
       "\n",
       "/* On hover */\n",
       "#sk-container-id-2 a.estimator_doc_link:hover {\n",
       "  /* unfitted */\n",
       "  background-color: var(--sklearn-color-unfitted-level-3);\n",
       "  color: var(--sklearn-color-background);\n",
       "  text-decoration: none;\n",
       "}\n",
       "\n",
       "#sk-container-id-2 a.estimator_doc_link.fitted:hover {\n",
       "  /* fitted */\n",
       "  background-color: var(--sklearn-color-fitted-level-3);\n",
       "}\n",
       "</style><div id=\"sk-container-id-2\" class=\"sk-top-container\"><div class=\"sk-text-repr-fallback\"><pre>RandomForestClassifier(criterion=&#x27;log_loss&#x27;, n_estimators=16)</pre><b>In a Jupyter environment, please rerun this cell to show the HTML representation or trust the notebook. <br />On GitHub, the HTML representation is unable to render, please try loading this page with nbviewer.org.</b></div><div class=\"sk-container\" hidden><div class=\"sk-item\"><div class=\"sk-estimator fitted sk-toggleable\"><input class=\"sk-toggleable__control sk-hidden--visually\" id=\"sk-estimator-id-2\" type=\"checkbox\" checked><label for=\"sk-estimator-id-2\" class=\"sk-toggleable__label fitted sk-toggleable__label-arrow fitted\">&nbsp;&nbsp;RandomForestClassifier<a class=\"sk-estimator-doc-link fitted\" rel=\"noreferrer\" target=\"_blank\" href=\"https://scikit-learn.org/1.4/modules/generated/sklearn.ensemble.RandomForestClassifier.html\">?<span>Documentation for RandomForestClassifier</span></a><span class=\"sk-estimator-doc-link fitted\">i<span>Fitted</span></span></label><div class=\"sk-toggleable__content fitted\"><pre>RandomForestClassifier(criterion=&#x27;log_loss&#x27;, n_estimators=16)</pre></div> </div></div></div></div>"
      ],
      "text/plain": [
       "RandomForestClassifier(criterion='log_loss', n_estimators=16)"
      ]
     },
     "execution_count": 24,
     "metadata": {},
     "output_type": "execute_result"
    }
   ],
   "source": [
    "rf_model = best_model[\"model\"]\n",
    "rf_model"
   ]
  },
  {
   "cell_type": "code",
   "execution_count": 61,
   "metadata": {
    "execution": {
     "iopub.execute_input": "2024-02-14T14:04:06.812998Z",
     "iopub.status.busy": "2024-02-14T14:04:06.811991Z",
     "iopub.status.idle": "2024-02-14T14:04:06.866692Z",
     "shell.execute_reply": "2024-02-14T14:04:06.864593Z",
     "shell.execute_reply.started": "2024-02-14T14:04:06.812998Z"
    }
   },
   "outputs": [],
   "source": [
    "y_train_pred = rf_model.predict(x_train)\n",
    "y_test_pred = rf_model.predict(x_test)"
   ]
  },
  {
   "cell_type": "code",
   "execution_count": 62,
   "metadata": {
    "execution": {
     "iopub.execute_input": "2024-02-14T14:04:09.219915Z",
     "iopub.status.busy": "2024-02-14T14:04:09.218390Z",
     "iopub.status.idle": "2024-02-14T14:04:09.231937Z",
     "shell.execute_reply": "2024-02-14T14:04:09.229938Z",
     "shell.execute_reply.started": "2024-02-14T14:04:09.219915Z"
    }
   },
   "outputs": [],
   "source": [
    "from sklearn.metrics import accuracy_score, precision_score, recall_score, f1_score\n",
    "\n",
    "def classification_metrics(y_true, y_pred) -> dict:\n",
    "    \"\"\"\n",
    "    Calculates the classification metrics accuracy, precision, recall, and F1 score.\n",
    "    \"\"\"\n",
    "    accuracy =  accuracy_score(y_true, y_pred)\n",
    "    precision =  precision_score(y_true, y_pred)    \n",
    "    recall =  recall_score(y_true, y_pred)\n",
    "    f1 = f1_score(y_true, y_pred)\n",
    "    \n",
    "    classification_dict = {\n",
    "        \"Accuracy\": round(accuracy, 2),\n",
    "        \"Precision\": round(precision, 2),\n",
    "        \"Recall\": round(recall, 2),\n",
    "        \"F1 Score\": round(f1, 2)\n",
    "    }\n",
    "    return classification_dict"
   ]
  },
  {
   "cell_type": "code",
   "execution_count": 63,
   "metadata": {
    "execution": {
     "iopub.execute_input": "2024-02-14T14:04:24.797937Z",
     "iopub.status.busy": "2024-02-14T14:04:24.795926Z",
     "iopub.status.idle": "2024-02-14T14:04:24.842032Z",
     "shell.execute_reply": "2024-02-14T14:04:24.839118Z",
     "shell.execute_reply.started": "2024-02-14T14:04:24.797937Z"
    }
   },
   "outputs": [
    {
     "data": {
      "text/plain": [
       "{'Accuracy': 0.99, 'Precision': 0.99, 'Recall': 1.0, 'F1 Score': 0.99}"
      ]
     },
     "execution_count": 63,
     "metadata": {},
     "output_type": "execute_result"
    }
   ],
   "source": [
    "test_eval_metrics = classification_metrics(y_test, y_test_pred)\n",
    "test_eval_metrics"
   ]
  },
  {
   "cell_type": "code",
   "execution_count": 64,
   "metadata": {
    "execution": {
     "iopub.execute_input": "2024-02-14T14:04:26.052855Z",
     "iopub.status.busy": "2024-02-14T14:04:26.051857Z",
     "iopub.status.idle": "2024-02-14T14:04:26.105724Z",
     "shell.execute_reply": "2024-02-14T14:04:26.102708Z",
     "shell.execute_reply.started": "2024-02-14T14:04:26.051857Z"
    }
   },
   "outputs": [
    {
     "data": {
      "text/plain": [
       "{'Accuracy': 1.0, 'Precision': 1.0, 'Recall': 1.0, 'F1 Score': 1.0}"
      ]
     },
     "execution_count": 64,
     "metadata": {},
     "output_type": "execute_result"
    }
   ],
   "source": [
    "train_eval_metrics = classification_metrics(y_train, y_train_pred)\n",
    "train_eval_metrics"
   ]
  },
  {
   "cell_type": "code",
   "execution_count": 89,
   "metadata": {
    "execution": {
     "iopub.execute_input": "2024-02-14T14:19:01.396688Z",
     "iopub.status.busy": "2024-02-14T14:19:01.395679Z",
     "iopub.status.idle": "2024-02-14T14:19:01.422259Z",
     "shell.execute_reply": "2024-02-14T14:19:01.419269Z",
     "shell.execute_reply.started": "2024-02-14T14:19:01.396688Z"
    }
   },
   "outputs": [],
   "source": [
    "from sklearn.metrics import confusion_matrix, ConfusionMatrixDisplay\n",
    "import matplotlib.pyplot as plt\n",
    "\n",
    "def plot_confusion_matrix(y_true, y_pred, class_names: list):\n",
    "  \"\"\"\n",
    "  Plots the confusion matrix for evaluating classification model\n",
    "  \"\"\"\n",
    "\n",
    "  # calculate confusion matrix values\n",
    "  cm = confusion_matrix(y_true, y_pred)\n",
    "  cm_pct = confusion_matrix(y_true, y_pred, normalize=\"true\")\n",
    "\n",
    "  # confusion matrix display objects\n",
    "  disp = ConfusionMatrixDisplay(confusion_matrix=cm, \n",
    "                              display_labels=class_names)\n",
    "  disp_pct = ConfusionMatrixDisplay(confusion_matrix=cm_pct,\n",
    "                                  display_labels=class_names)\n",
    "\n",
    "  # create the figure object and axis\n",
    "  fig = plt.figure(figsize=(20, 15))\n",
    "  ax1 = fig.add_subplot(1, 2, 1)\n",
    "  ax2 = fig.add_subplot(1, 2, 2)\n",
    "\n",
    "  # plot confusion matrix on the axis\n",
    "  disp.plot(ax=ax1, cmap=\"Blues\", xticks_rotation='vertical', colorbar=False)\n",
    "  disp_pct.plot(ax=ax2, cmap=\"Blues\", xticks_rotation=\"vertical\", colorbar=False, values_format='.2%')\n",
    "\n",
    "  # plot customization\n",
    "  ax1.set_title(\"Confusion Matrix\", fontdict={'weight':'bold'})\n",
    "  ax2.set_title(\"Confusion Matrix (Percentages)\", fontdict={'weight':'bold'})\n",
    "\n",
    "  # show plot\n",
    "  plt.show()"
   ]
  },
  {
   "cell_type": "code",
   "execution_count": 90,
   "metadata": {
    "execution": {
     "iopub.execute_input": "2024-02-14T14:19:03.474282Z",
     "iopub.status.busy": "2024-02-14T14:19:03.473282Z",
     "iopub.status.idle": "2024-02-14T14:19:04.157063Z",
     "shell.execute_reply": "2024-02-14T14:19:04.155035Z",
     "shell.execute_reply.started": "2024-02-14T14:19:03.474282Z"
    }
   },
   "outputs": [
    {
     "data": {
      "image/png": "[encoded data removed]",
      "text/plain": [
       "<Figure size 2000x1500 with 2 Axes>"
      ]
     },
     "metadata": {},
     "output_type": "display_data"
    }
   ],
   "source": [
    "plot_confusion_matrix(y_test, y_test_pred, class_names=[\"fail\", \"pass\"])"
   ]
  },
  {
   "cell_type": "code",
   "execution_count": 91,
   "metadata": {
    "execution": {
     "iopub.execute_input": "2024-02-14T14:19:09.730717Z",
     "iopub.status.busy": "2024-02-14T14:19:09.729576Z",
     "iopub.status.idle": "2024-02-14T14:19:10.339874Z",
     "shell.execute_reply": "2024-02-14T14:19:10.337957Z",
     "shell.execute_reply.started": "2024-02-14T14:19:09.730717Z"
    }
   },
   "outputs": [
    {
     "data": {
      "image/png": "[encoded data removed]",
      "text/plain": [
       "<Figure size 2000x1500 with 2 Axes>"
      ]
     },
     "metadata": {},
     "output_type": "display_data"
    }
   ],
   "source": [
    "plot_confusion_matrix(y_train, y_train_pred, class_names=[\"fail\", \"pass\"])"
   ]
  },
  {
   "cell_type": "code",
   "execution_count": 120,
   "metadata": {
    "execution": {
     "iopub.execute_input": "2024-02-14T14:50:57.693085Z",
     "iopub.status.busy": "2024-02-14T14:50:57.692085Z",
     "iopub.status.idle": "2024-02-14T14:50:58.024790Z",
     "shell.execute_reply": "2024-02-14T14:50:58.022891Z",
     "shell.execute_reply.started": "2024-02-14T14:50:57.693085Z"
    }
   },
   "outputs": [
    {
     "data": {
      "image/png": "[encoded data removed]",
      "text/plain": [
       "<Figure size 800x600 with 1 Axes>"
      ]
     },
     "metadata": {},
     "output_type": "display_data"
    }
   ],
   "source": [
    "# Calculate confusion matrix values\n",
    "cm = confusion_matrix(y_test, y_test_pred)\n",
    "cm_pct = confusion_matrix(y_test, y_test_pred, normalize=\"true\")\n",
    "\n",
    "\n",
    "# Confusion matrix display objects\n",
    "disp = ConfusionMatrixDisplay(confusion_matrix=cm, \n",
    "                              display_labels=[\"fail\",\"pass\"])\n",
    "\n",
    "\n",
    "# Create the figure object and axis\n",
    "fig = plt.figure(figsize=(8, 6))\n",
    "ax = fig.add_subplot()\n",
    "\n",
    "# Plot confusion matrix on the axis\n",
    "disp.plot(ax=ax, cmap=\"Blues\", colorbar=False) \n",
    "\n",
    "# Annotate confusion matrix with percentages\n",
    "for i in range(cm.shape[0]):\n",
    "    for j in range(cm.shape[1]):\n",
    "        ax.text(j, i+0.1, '{:.2%}'.format(cm_pct[i, j]),\n",
    "                ha='center', va='center')\n",
    "\n",
    "# Plot customization\n",
    "ax.set_title(\"Confusion Matrix\", fontdict={'weight':'bold'})\n",
    "\n",
    "# Show plot\n",
    "plt.show()"
   ]
  },
  {
   "cell_type": "code",
   "execution_count": 125,
   "metadata": {
    "execution": {
     "iopub.execute_input": "2024-02-14T14:54:45.787354Z",
     "iopub.status.busy": "2024-02-14T14:54:45.786356Z",
     "iopub.status.idle": "2024-02-14T14:54:45.835358Z",
     "shell.execute_reply": "2024-02-14T14:54:45.832356Z",
     "shell.execute_reply.started": "2024-02-14T14:54:45.787354Z"
    }
   },
   "outputs": [
    {
     "name": "stdout",
     "output_type": "stream",
     "text": [
      "              precision    recall  f1-score   support\n",
      "\n",
      "         0.0       0.98      0.94      0.96       372\n",
      "         1.0       0.99      1.00      0.99      1544\n",
      "\n",
      "    accuracy                           0.99      1916\n",
      "   macro avg       0.98      0.97      0.98      1916\n",
      "weighted avg       0.99      0.99      0.99      1916\n",
      "\n"
     ]
    }
   ],
   "source": [
    "from sklearn.metrics import classification_report\n",
    "\n",
    "print(classification_report(y_test, y_test_pred, output_dict=False))"
   ]
  },
  {
   "cell_type": "code",
   "execution_count": 133,
   "metadata": {
    "execution": {
     "iopub.execute_input": "2024-02-14T15:04:09.342150Z",
     "iopub.status.busy": "2024-02-14T15:04:09.341149Z",
     "iopub.status.idle": "2024-02-14T15:04:09.409738Z",
     "shell.execute_reply": "2024-02-14T15:04:09.407731Z",
     "shell.execute_reply.started": "2024-02-14T15:04:09.342150Z"
    }
   },
   "outputs": [
    {
     "data": {
      "text/html": [
       "<div>\n",
       "<style scoped>\n",
       "    .dataframe tbody tr th:only-of-type {\n",
       "        vertical-align: middle;\n",
       "    }\n",
       "\n",
       "    .dataframe tbody tr th {\n",
       "        vertical-align: top;\n",
       "    }\n",
       "\n",
       "    .dataframe thead th {\n",
       "        text-align: right;\n",
       "    }\n",
       "</style>\n",
       "<table border=\"1\" class=\"dataframe\">\n",
       "  <thead>\n",
       "    <tr style=\"text-align: right;\">\n",
       "      <th></th>\n",
       "      <th>precision</th>\n",
       "      <th>recall</th>\n",
       "      <th>f1-score</th>\n",
       "      <th>support</th>\n",
       "    </tr>\n",
       "  </thead>\n",
       "  <tbody>\n",
       "    <tr>\n",
       "      <th>0.0</th>\n",
       "      <td>0.983</td>\n",
       "      <td>0.944</td>\n",
       "      <td>0.963</td>\n",
       "      <td>372.000</td>\n",
       "    </tr>\n",
       "    <tr>\n",
       "      <th>1.0</th>\n",
       "      <td>0.987</td>\n",
       "      <td>0.996</td>\n",
       "      <td>0.991</td>\n",
       "      <td>1544.000</td>\n",
       "    </tr>\n",
       "    <tr>\n",
       "      <th>accuracy</th>\n",
       "      <td>0.986</td>\n",
       "      <td>0.986</td>\n",
       "      <td>0.986</td>\n",
       "      <td>0.986</td>\n",
       "    </tr>\n",
       "    <tr>\n",
       "      <th>macro avg</th>\n",
       "      <td>0.985</td>\n",
       "      <td>0.970</td>\n",
       "      <td>0.977</td>\n",
       "      <td>1916.000</td>\n",
       "    </tr>\n",
       "    <tr>\n",
       "      <th>weighted avg</th>\n",
       "      <td>0.986</td>\n",
       "      <td>0.986</td>\n",
       "      <td>0.986</td>\n",
       "      <td>1916.000</td>\n",
       "    </tr>\n",
       "  </tbody>\n",
       "</table>\n",
       "</div>"
      ],
      "text/plain": [
       "              precision  recall  f1-score   support\n",
       "0.0               0.983   0.944     0.963   372.000\n",
       "1.0               0.987   0.996     0.991  1544.000\n",
       "accuracy          0.986   0.986     0.986     0.986\n",
       "macro avg         0.985   0.970     0.977  1916.000\n",
       "weighted avg      0.986   0.986     0.986  1916.000"
      ]
     },
     "execution_count": 133,
     "metadata": {},
     "output_type": "execute_result"
    }
   ],
   "source": [
    "cr_dict = classification_report(y_test, y_test_pred, output_dict=True)\n",
    "pd.DataFrame(cr_dict).transpose()"
   ]
  },
  {
   "cell_type": "code",
   "execution_count": null,
   "metadata": {},
   "outputs": [],
   "source": []
  }
 ],
 "metadata": {
  "kernelspec": {
   "display_name": "Python 3 (ipykernel)",
   "language": "python",
   "name": "python3"
  },
  "language_info": {
   "codemirror_mode": {
    "name": "ipython",
    "version": 3
   },
   "file_extension": ".py",
   "mimetype": "text/x-python",
   "name": "python",
   "nbconvert_exporter": "python",
   "pygments_lexer": "ipython3",
   "version": "3.10.11"
  }
 },
 "nbformat": 4,
 "nbformat_minor": 4
}
